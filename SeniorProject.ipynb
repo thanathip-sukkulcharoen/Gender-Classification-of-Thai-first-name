{
 "cells": [
  {
   "cell_type": "markdown",
   "metadata": {
    "colab_type": "text",
    "id": "BweDRdC4RYKS"
   },
   "source": [
    "# Senior Project 2020"
   ]
  },
  {
   "cell_type": "markdown",
   "metadata": {},
   "source": [
    "## --------------------------------------------Data Preprocessing----------------------------------------"
   ]
  },
  {
   "cell_type": "markdown",
   "metadata": {
    "colab_type": "text",
    "id": "x8jQNME5RYKU"
   },
   "source": [
    "## Import Libraries"
   ]
  },
  {
   "cell_type": "code",
   "execution_count": 1,
   "metadata": {
    "colab": {},
    "colab_type": "code",
    "id": "6z63zF7WRYKV"
   },
   "outputs": [],
   "source": [
    "# Standard Library\n",
    "import pandas as pd\n",
    "import numpy as np"
   ]
  },
  {
   "cell_type": "code",
   "execution_count": 2,
   "metadata": {
    "colab": {},
    "colab_type": "code",
    "id": "ablv_uJyRYKY"
   },
   "outputs": [],
   "source": [
    "# Data Preprocessing Library\n",
    "from sklearn.feature_extraction import DictVectorizer\n",
    "from nltk.tokenize import SyllableTokenizer\n",
    "from nltk import word_tokenize, ngrams\n",
    "from sklearn.model_selection import train_test_split"
   ]
  },
  {
   "cell_type": "code",
   "execution_count": 3,
   "metadata": {},
   "outputs": [],
   "source": [
    "# Model Library\n",
    "from sklearn.naive_bayes import MultinomialNB\n",
    "from sklearn.ensemble import RandomForestClassifier\n",
    "from sklearn.svm import SVC  \n",
    "from sklearn.neighbors import KNeighborsClassifier\n",
    "from sklearn.neural_network import MLPClassifier\n",
    "from sklearn.model_selection import cross_val_score\n",
    "from sklearn.metrics import classification_report,confusion_matrix\n",
    "from sklearn.ensemble import VotingClassifier"
   ]
  },
  {
   "cell_type": "code",
   "execution_count": 4,
   "metadata": {},
   "outputs": [],
   "source": [
    "#Feature analysis\n",
    "import matplotlib.pyplot as plt\n",
    "from statistics import mean "
   ]
  },
  {
   "cell_type": "code",
   "execution_count": 5,
   "metadata": {},
   "outputs": [],
   "source": [
    "#Model Tuning Library\n",
    "from sklearn.model_selection import GridSearchCV\n",
    "from sklearn.model_selection import RandomizedSearchCV\n",
    "from pprint import pprint"
   ]
  },
  {
   "cell_type": "markdown",
   "metadata": {
    "colab_type": "text",
    "id": "cA7TKIEyRYKb"
   },
   "source": [
    "## Load Name Dataset"
   ]
  },
  {
   "cell_type": "code",
   "execution_count": 6,
   "metadata": {
    "colab": {},
    "colab_type": "code",
    "id": "A_hFQCUnRYKc"
   },
   "outputs": [],
   "source": [
    "df = pd.read_excel('name_dataset.xlsx')"
   ]
  },
  {
   "cell_type": "code",
   "execution_count": 7,
   "metadata": {
    "colab": {
     "base_uri": "https://localhost:8080/",
     "height": 34
    },
    "colab_type": "code",
    "id": "fBEQPNjHRYKe",
    "outputId": "7e153f63-31eb-4d86-aea2-eef66e3279fc"
   },
   "outputs": [
    {
     "data": {
      "text/plain": [
       "(11671, 2)"
      ]
     },
     "execution_count": 7,
     "metadata": {},
     "output_type": "execute_result"
    }
   ],
   "source": [
    "df.shape"
   ]
  },
  {
   "cell_type": "code",
   "execution_count": 8,
   "metadata": {
    "colab": {
     "base_uri": "https://localhost:8080/",
     "height": 195
    },
    "colab_type": "code",
    "id": "m0t39n-GRYKi",
    "outputId": "db013016-1ce6-4b00-e0ac-2731f301a891"
   },
   "outputs": [
    {
     "data": {
      "text/html": [
       "<div>\n",
       "<style scoped>\n",
       "    .dataframe tbody tr th:only-of-type {\n",
       "        vertical-align: middle;\n",
       "    }\n",
       "\n",
       "    .dataframe tbody tr th {\n",
       "        vertical-align: top;\n",
       "    }\n",
       "\n",
       "    .dataframe thead th {\n",
       "        text-align: right;\n",
       "    }\n",
       "</style>\n",
       "<table border=\"1\" class=\"dataframe\">\n",
       "  <thead>\n",
       "    <tr style=\"text-align: right;\">\n",
       "      <th></th>\n",
       "      <th>name</th>\n",
       "      <th>gender</th>\n",
       "    </tr>\n",
       "  </thead>\n",
       "  <tbody>\n",
       "    <tr>\n",
       "      <td>0</td>\n",
       "      <td>Yuwadee Klanarong Civil</td>\n",
       "      <td>female</td>\n",
       "    </tr>\n",
       "    <tr>\n",
       "      <td>1</td>\n",
       "      <td>Muay Chita</td>\n",
       "      <td>female</td>\n",
       "    </tr>\n",
       "    <tr>\n",
       "      <td>2</td>\n",
       "      <td>Passorn DT</td>\n",
       "      <td>female</td>\n",
       "    </tr>\n",
       "    <tr>\n",
       "      <td>3</td>\n",
       "      <td>Nut Samsarai</td>\n",
       "      <td>male</td>\n",
       "    </tr>\n",
       "    <tr>\n",
       "      <td>4</td>\n",
       "      <td>Jan Jao</td>\n",
       "      <td>female</td>\n",
       "    </tr>\n",
       "  </tbody>\n",
       "</table>\n",
       "</div>"
      ],
      "text/plain": [
       "                      name  gender\n",
       "0  Yuwadee Klanarong Civil  female\n",
       "1               Muay Chita  female\n",
       "2               Passorn DT  female\n",
       "3             Nut Samsarai    male\n",
       "4                  Jan Jao  female"
      ]
     },
     "execution_count": 8,
     "metadata": {},
     "output_type": "execute_result"
    }
   ],
   "source": [
    "df.head()"
   ]
  },
  {
   "cell_type": "code",
   "execution_count": 9,
   "metadata": {
    "colab": {
     "base_uri": "https://localhost:8080/",
     "height": 67
    },
    "colab_type": "code",
    "id": "rUKTNtogRYKl",
    "outputId": "2c8160dc-94cf-4a51-f02e-332d58dd834d"
   },
   "outputs": [
    {
     "data": {
      "text/plain": [
       "name         0\n",
       "gender    1640\n",
       "dtype: int64"
      ]
     },
     "execution_count": 9,
     "metadata": {},
     "output_type": "execute_result"
    }
   ],
   "source": [
    "df.isnull().sum()"
   ]
  },
  {
   "cell_type": "code",
   "execution_count": 10,
   "metadata": {
    "colab": {
     "base_uri": "https://localhost:8080/",
     "height": 34
    },
    "colab_type": "code",
    "id": "VZ7FQdgcRYKo",
    "outputId": "69cbff56-f21e-45c9-dca4-8412a3b0d9d0"
   },
   "outputs": [
    {
     "data": {
      "text/plain": [
       "(5460, 2)"
      ]
     },
     "execution_count": 10,
     "metadata": {},
     "output_type": "execute_result"
    }
   ],
   "source": [
    "# Number of Female Names\n",
    "df[df.gender == 'female'].shape"
   ]
  },
  {
   "cell_type": "code",
   "execution_count": 11,
   "metadata": {
    "colab": {
     "base_uri": "https://localhost:8080/",
     "height": 34
    },
    "colab_type": "code",
    "id": "Yq1NGWpcRYKr",
    "outputId": "4b610228-d198-4461-f0ab-35d5a5c2ff9d"
   },
   "outputs": [
    {
     "data": {
      "text/plain": [
       "(4571, 2)"
      ]
     },
     "execution_count": 11,
     "metadata": {},
     "output_type": "execute_result"
    }
   ],
   "source": [
    "# Number of Male Names\n",
    "df[df.gender == 'male'].shape"
   ]
  },
  {
   "cell_type": "code",
   "execution_count": 12,
   "metadata": {
    "colab": {
     "base_uri": "https://localhost:8080/",
     "height": 34
    },
    "colab_type": "code",
    "id": "7gXFUPuGRYKt",
    "outputId": "68187b9e-64ff-4d9d-d74f-f3428c119d37"
   },
   "outputs": [
    {
     "data": {
      "text/plain": [
       "Index(['name', 'gender'], dtype='object')"
      ]
     },
     "execution_count": 12,
     "metadata": {},
     "output_type": "execute_result"
    }
   ],
   "source": [
    "# Checking for column name consistency\n",
    "df.columns"
   ]
  },
  {
   "cell_type": "markdown",
   "metadata": {
    "colab_type": "text",
    "id": "ZZKt0ULvRYKw"
   },
   "source": [
    "## Data Cleaning"
   ]
  },
  {
   "cell_type": "code",
   "execution_count": 13,
   "metadata": {
    "colab": {},
    "colab_type": "code",
    "id": "kKaPnqInRYKx"
   },
   "outputs": [],
   "source": [
    "df = df.dropna(subset = ['gender'])"
   ]
  },
  {
   "cell_type": "code",
   "execution_count": 14,
   "metadata": {},
   "outputs": [],
   "source": [
    "df = df.reset_index(drop=True)"
   ]
  },
  {
   "cell_type": "code",
   "execution_count": 15,
   "metadata": {
    "colab": {
     "base_uri": "https://localhost:8080/",
     "height": 402
    },
    "colab_type": "code",
    "id": "te90lFo9RYKz",
    "outputId": "ea84d410-a49e-4ff2-b6d4-8c7d7940f037"
   },
   "outputs": [
    {
     "data": {
      "text/plain": [
       "(10031, 2)"
      ]
     },
     "execution_count": 15,
     "metadata": {},
     "output_type": "execute_result"
    }
   ],
   "source": [
    "df.shape"
   ]
  },
  {
   "cell_type": "code",
   "execution_count": 16,
   "metadata": {
    "colab": {
     "base_uri": "https://localhost:8080/",
     "height": 67
    },
    "colab_type": "code",
    "id": "ndBqUgnCRYK1",
    "outputId": "be218cbe-d8de-4191-d212-3721a18a79f4"
   },
   "outputs": [
    {
     "data": {
      "text/plain": [
       "name      0\n",
       "gender    0\n",
       "dtype: int64"
      ]
     },
     "execution_count": 16,
     "metadata": {},
     "output_type": "execute_result"
    }
   ],
   "source": [
    "df.isnull().sum()"
   ]
  },
  {
   "cell_type": "markdown",
   "metadata": {},
   "source": [
    "## Features"
   ]
  },
  {
   "cell_type": "markdown",
   "metadata": {
    "colab_type": "text",
    "id": "Ryeul5b4RYK4"
   },
   "source": [
    "#### Extract First Name"
   ]
  },
  {
   "cell_type": "code",
   "execution_count": 17,
   "metadata": {
    "colab": {},
    "colab_type": "code",
    "id": "Uj_gg4qiRYK5"
   },
   "outputs": [],
   "source": [
    "df['firstName'] = df['name'].str.split().str[0]"
   ]
  },
  {
   "cell_type": "code",
   "execution_count": 18,
   "metadata": {
    "colab": {
     "base_uri": "https://localhost:8080/",
     "height": 0
    },
    "colab_type": "code",
    "id": "2RFSSVseRYK7",
    "outputId": "e81479e3-675b-4c88-de20-46d54a98b2b1"
   },
   "outputs": [
    {
     "data": {
      "text/html": [
       "<div>\n",
       "<style scoped>\n",
       "    .dataframe tbody tr th:only-of-type {\n",
       "        vertical-align: middle;\n",
       "    }\n",
       "\n",
       "    .dataframe tbody tr th {\n",
       "        vertical-align: top;\n",
       "    }\n",
       "\n",
       "    .dataframe thead th {\n",
       "        text-align: right;\n",
       "    }\n",
       "</style>\n",
       "<table border=\"1\" class=\"dataframe\">\n",
       "  <thead>\n",
       "    <tr style=\"text-align: right;\">\n",
       "      <th></th>\n",
       "      <th>name</th>\n",
       "      <th>gender</th>\n",
       "      <th>firstName</th>\n",
       "    </tr>\n",
       "  </thead>\n",
       "  <tbody>\n",
       "    <tr>\n",
       "      <td>0</td>\n",
       "      <td>Yuwadee Klanarong Civil</td>\n",
       "      <td>female</td>\n",
       "      <td>Yuwadee</td>\n",
       "    </tr>\n",
       "    <tr>\n",
       "      <td>1</td>\n",
       "      <td>Muay Chita</td>\n",
       "      <td>female</td>\n",
       "      <td>Muay</td>\n",
       "    </tr>\n",
       "    <tr>\n",
       "      <td>2</td>\n",
       "      <td>Passorn DT</td>\n",
       "      <td>female</td>\n",
       "      <td>Passorn</td>\n",
       "    </tr>\n",
       "    <tr>\n",
       "      <td>3</td>\n",
       "      <td>Nut Samsarai</td>\n",
       "      <td>male</td>\n",
       "      <td>Nut</td>\n",
       "    </tr>\n",
       "    <tr>\n",
       "      <td>4</td>\n",
       "      <td>Jan Jao</td>\n",
       "      <td>female</td>\n",
       "      <td>Jan</td>\n",
       "    </tr>\n",
       "  </tbody>\n",
       "</table>\n",
       "</div>"
      ],
      "text/plain": [
       "                      name  gender firstName\n",
       "0  Yuwadee Klanarong Civil  female   Yuwadee\n",
       "1               Muay Chita  female      Muay\n",
       "2               Passorn DT  female   Passorn\n",
       "3             Nut Samsarai    male       Nut\n",
       "4                  Jan Jao  female       Jan"
      ]
     },
     "execution_count": 18,
     "metadata": {},
     "output_type": "execute_result"
    }
   ],
   "source": [
    "df.head()"
   ]
  },
  {
   "cell_type": "markdown",
   "metadata": {
    "colab_type": "text",
    "id": "0ush5gYbRYK-"
   },
   "source": [
    "#### Replacing All F and M with 0 and 1 respectively"
   ]
  },
  {
   "cell_type": "code",
   "execution_count": 19,
   "metadata": {
    "colab": {},
    "colab_type": "code",
    "id": "Jrg_lJXbRYK_"
   },
   "outputs": [],
   "source": [
    "df.gender.replace({'female':0,'male':1},inplace=True)"
   ]
  },
  {
   "cell_type": "code",
   "execution_count": 20,
   "metadata": {
    "colab": {
     "base_uri": "https://localhost:8080/",
     "height": 0
    },
    "colab_type": "code",
    "id": "P-E0cM0gRYLB",
    "outputId": "9d74a89b-3fad-47b1-ca06-26c0fc6549bb"
   },
   "outputs": [
    {
     "data": {
      "text/html": [
       "<div>\n",
       "<style scoped>\n",
       "    .dataframe tbody tr th:only-of-type {\n",
       "        vertical-align: middle;\n",
       "    }\n",
       "\n",
       "    .dataframe tbody tr th {\n",
       "        vertical-align: top;\n",
       "    }\n",
       "\n",
       "    .dataframe thead th {\n",
       "        text-align: right;\n",
       "    }\n",
       "</style>\n",
       "<table border=\"1\" class=\"dataframe\">\n",
       "  <thead>\n",
       "    <tr style=\"text-align: right;\">\n",
       "      <th></th>\n",
       "      <th>name</th>\n",
       "      <th>gender</th>\n",
       "      <th>firstName</th>\n",
       "    </tr>\n",
       "  </thead>\n",
       "  <tbody>\n",
       "    <tr>\n",
       "      <td>0</td>\n",
       "      <td>Yuwadee Klanarong Civil</td>\n",
       "      <td>0</td>\n",
       "      <td>Yuwadee</td>\n",
       "    </tr>\n",
       "    <tr>\n",
       "      <td>1</td>\n",
       "      <td>Muay Chita</td>\n",
       "      <td>0</td>\n",
       "      <td>Muay</td>\n",
       "    </tr>\n",
       "    <tr>\n",
       "      <td>2</td>\n",
       "      <td>Passorn DT</td>\n",
       "      <td>0</td>\n",
       "      <td>Passorn</td>\n",
       "    </tr>\n",
       "    <tr>\n",
       "      <td>3</td>\n",
       "      <td>Nut Samsarai</td>\n",
       "      <td>1</td>\n",
       "      <td>Nut</td>\n",
       "    </tr>\n",
       "    <tr>\n",
       "      <td>4</td>\n",
       "      <td>Jan Jao</td>\n",
       "      <td>0</td>\n",
       "      <td>Jan</td>\n",
       "    </tr>\n",
       "  </tbody>\n",
       "</table>\n",
       "</div>"
      ],
      "text/plain": [
       "                      name  gender firstName\n",
       "0  Yuwadee Klanarong Civil       0   Yuwadee\n",
       "1               Muay Chita       0      Muay\n",
       "2               Passorn DT       0   Passorn\n",
       "3             Nut Samsarai       1       Nut\n",
       "4                  Jan Jao       0       Jan"
      ]
     },
     "execution_count": 20,
     "metadata": {},
     "output_type": "execute_result"
    }
   ],
   "source": [
    "df.head()"
   ]
  },
  {
   "cell_type": "markdown",
   "metadata": {},
   "source": [
    "### Extracting Features"
   ]
  },
  {
   "cell_type": "markdown",
   "metadata": {},
   "source": [
    "#### Using a custom function for feature analysis : Substring,Syllable n-gram"
   ]
  },
  {
   "cell_type": "code",
   "execution_count": 21,
   "metadata": {},
   "outputs": [
    {
     "data": {
      "text/plain": [
       "\"('Yu', 'wa')\""
      ]
     },
     "execution_count": 21,
     "metadata": {},
     "output_type": "execute_result"
    }
   ],
   "source": [
    "# Convert Tuple to String like Tuple for function \"gender_features()\"\n",
    "def convertTuple(tup) : \n",
    "    str =  \"(\"\n",
    "    for i in range(len(tup)) :\n",
    "        if i < len(tup)-1 :\n",
    "            str += \"'\" + tup[i] + \"', \"\n",
    "        else :\n",
    "            str += \"'\" + tup[i] + \"'\"\n",
    "    str += \")\"\n",
    "    return str\n",
    "\n",
    "convertTuple(('Yu','wa'))"
   ]
  },
  {
   "cell_type": "code",
   "execution_count": 22,
   "metadata": {},
   "outputs": [],
   "source": [
    "# Extract features from names\n",
    "def gender_features(name,isSubstring,isCharacter,ngrams_mode):\n",
    "        SSP = SyllableTokenizer()\n",
    "        name = name.lower()\n",
    "        features = {}\n",
    "        if (isSubstring) :\n",
    "            features[\"first_letter\"] = name[0].lower()\n",
    "            features[\"first2_letter\"] = name[0:2].lower()\n",
    "            features[\"first3_letter\"] = name[0:3].lower()\n",
    "            features[\"first4_letter\"] = name[0:4].lower()\n",
    "            features[\"last_letter\"] = name[-1].lower()\n",
    "            features[\"last2_letter\"] = name[-2:].lower()\n",
    "            features[\"last3_letter\"] = name[-3:].lower()\n",
    "            features[\"last4_letter\"] = name[-4:].lower()\n",
    "        if (isCharacter) :\n",
    "            for letter in \"abcdefghijklmnopqrstuvwxyz0123456789.'-\":\n",
    "                features[\"count({})\".format(letter)] = name.lower().count(letter)\n",
    "        token = SSP.tokenize(name)\n",
    "        if (ngrams_mode == 1) :\n",
    "            if len(list(ngrams(token, 1))) > 0 : features[\"1grams-1\"] = list(ngrams(token, 1))[0][0]\n",
    "            if len(list(ngrams(token, 1))) > 1 : features[\"1grams-2\"] = list(ngrams(token, 1))[1][0]\n",
    "            if len(list(ngrams(token, 1))) > 2 : features[\"1grams-3\"] = list(ngrams(token, 1))[2][0]\n",
    "            if len(list(ngrams(token, 1))) > 3 : features[\"1grams-4\"] = list(ngrams(token, 1))[3][0]\n",
    "            if len(list(ngrams(token, 1))) > 4 : features[\"1grams-5\"] = list(ngrams(token, 1))[4][0]\n",
    "            if len(list(ngrams(token, 1))) > 5 : features[\"1grams-6\"] = list(ngrams(token, 1))[5][0]\n",
    "        if (ngrams_mode == 2) :\n",
    "            if len(list(ngrams(token, 2))) > 0 : features[\"2grams-1\"] = convertTuple(list(ngrams(token, 2))[0])\n",
    "            if len(list(ngrams(token, 2))) > 1 : features[\"2grams-2\"] = convertTuple(list(ngrams(token, 2))[1])\n",
    "            if len(list(ngrams(token, 2))) > 2 : features[\"2grams-3\"] = convertTuple(list(ngrams(token, 2))[2])\n",
    "            if len(list(ngrams(token, 2))) > 3 : features[\"2grams-4\"] = convertTuple(list(ngrams(token, 2))[3])\n",
    "            if len(list(ngrams(token, 2))) > 4 : features[\"2grams-5\"] = convertTuple(list(ngrams(token, 2))[4])\n",
    "        return features"
   ]
  },
  {
   "cell_type": "markdown",
   "metadata": {},
   "source": [
    "#### DictVectorizer - Convert features to sparse matrix"
   ]
  },
  {
   "cell_type": "code",
   "execution_count": 23,
   "metadata": {},
   "outputs": [],
   "source": [
    "dv = DictVectorizer()\n",
    "isSubstring = True\n",
    "isCharacter = True\n",
    "ngrams_mode = 2 #modes == 1,2\n",
    "Xfeatures = [gender_features(n,isSubstring,isCharacter,ngrams_mode) for n in df['firstName']]"
   ]
  },
  {
   "cell_type": "code",
   "execution_count": 24,
   "metadata": {},
   "outputs": [
    {
     "data": {
      "text/plain": [
       "[{'first_letter': 'y',\n",
       "  'first2_letter': 'yu',\n",
       "  'first3_letter': 'yuw',\n",
       "  'first4_letter': 'yuwa',\n",
       "  'last_letter': 'e',\n",
       "  'last2_letter': 'ee',\n",
       "  'last3_letter': 'dee',\n",
       "  'last4_letter': 'adee',\n",
       "  'count(a)': 1,\n",
       "  'count(b)': 0,\n",
       "  'count(c)': 0,\n",
       "  'count(d)': 1,\n",
       "  'count(e)': 2,\n",
       "  'count(f)': 0,\n",
       "  'count(g)': 0,\n",
       "  'count(h)': 0,\n",
       "  'count(i)': 0,\n",
       "  'count(j)': 0,\n",
       "  'count(k)': 0,\n",
       "  'count(l)': 0,\n",
       "  'count(m)': 0,\n",
       "  'count(n)': 0,\n",
       "  'count(o)': 0,\n",
       "  'count(p)': 0,\n",
       "  'count(q)': 0,\n",
       "  'count(r)': 0,\n",
       "  'count(s)': 0,\n",
       "  'count(t)': 0,\n",
       "  'count(u)': 1,\n",
       "  'count(v)': 0,\n",
       "  'count(w)': 1,\n",
       "  'count(x)': 0,\n",
       "  'count(y)': 1,\n",
       "  'count(z)': 0,\n",
       "  'count(0)': 0,\n",
       "  'count(1)': 0,\n",
       "  'count(2)': 0,\n",
       "  'count(3)': 0,\n",
       "  'count(4)': 0,\n",
       "  'count(5)': 0,\n",
       "  'count(6)': 0,\n",
       "  'count(7)': 0,\n",
       "  'count(8)': 0,\n",
       "  'count(9)': 0,\n",
       "  'count(.)': 0,\n",
       "  \"count(')\": 0,\n",
       "  'count(-)': 0,\n",
       "  '2grams-1': \"('yu', 'wa')\",\n",
       "  '2grams-2': \"('wa', 'dee')\"}]"
      ]
     },
     "execution_count": 24,
     "metadata": {},
     "output_type": "execute_result"
    }
   ],
   "source": [
    "Xfeatures[:1]"
   ]
  },
  {
   "cell_type": "code",
   "execution_count": 25,
   "metadata": {},
   "outputs": [],
   "source": [
    "X = dv.fit_transform(Xfeatures)"
   ]
  },
  {
   "cell_type": "code",
   "execution_count": 26,
   "metadata": {},
   "outputs": [
    {
     "data": {
      "text/plain": [
       "<10031x18720 sparse matrix of type '<class 'numpy.float64'>'\n",
       "\twith 484786 stored elements in Compressed Sparse Row format>"
      ]
     },
     "execution_count": 26,
     "metadata": {},
     "output_type": "execute_result"
    }
   ],
   "source": [
    "X"
   ]
  },
  {
   "cell_type": "markdown",
   "metadata": {
    "colab_type": "text",
    "id": "iKaFRkuBRYLL"
   },
   "source": [
    "## Train Test Split"
   ]
  },
  {
   "cell_type": "code",
   "execution_count": 27,
   "metadata": {
    "colab": {},
    "colab_type": "code",
    "id": "H_hnHpljRYLO"
   },
   "outputs": [],
   "source": [
    "X\n",
    "y = df['gender']"
   ]
  },
  {
   "cell_type": "code",
   "execution_count": 28,
   "metadata": {
    "colab": {},
    "colab_type": "code",
    "id": "e75ka8rTRYLQ"
   },
   "outputs": [],
   "source": [
    "X_train, X_test, y_train, y_test = train_test_split(X, y, test_size=0.25, random_state=0)"
   ]
  },
  {
   "cell_type": "markdown",
   "metadata": {},
   "source": [
    "## -----------------------------------------Basic Model Classification--------------------------------------"
   ]
  },
  {
   "cell_type": "markdown",
   "metadata": {
    "colab_type": "text",
    "id": "U9_8mUvYRYLS"
   },
   "source": [
    "## 1.Naive Bayes Classifier"
   ]
  },
  {
   "cell_type": "code",
   "execution_count": 38,
   "metadata": {
    "colab": {},
    "colab_type": "code",
    "id": "GRKkuWylRYLV"
   },
   "outputs": [],
   "source": [
    "mnb = MultinomialNB()"
   ]
  },
  {
   "cell_type": "code",
   "execution_count": 39,
   "metadata": {
    "colab": {
     "base_uri": "https://localhost:8080/",
     "height": 34
    },
    "colab_type": "code",
    "id": "SOXcNRZ1RYLX",
    "outputId": "e2e7f985-bdd7-498c-c4e9-2bbda7440a88"
   },
   "outputs": [
    {
     "data": {
      "text/plain": [
       "MultinomialNB(alpha=1.0, class_prior=None, fit_prior=True)"
      ]
     },
     "execution_count": 39,
     "metadata": {},
     "output_type": "execute_result"
    }
   ],
   "source": [
    "mnb.fit(X_train,y_train)"
   ]
  },
  {
   "cell_type": "markdown",
   "metadata": {
    "colab_type": "text",
    "id": "6sYIXqj0RYLZ"
   },
   "source": [
    "### Prediction and Evaluation"
   ]
  },
  {
   "cell_type": "code",
   "execution_count": 40,
   "metadata": {
    "colab": {},
    "colab_type": "code",
    "id": "1jNo_CGBRYLa"
   },
   "outputs": [],
   "source": [
    "mnb_pred = mnb.predict(X_test)"
   ]
  },
  {
   "cell_type": "code",
   "execution_count": 41,
   "metadata": {
    "colab": {
     "base_uri": "https://localhost:8080/",
     "height": 0
    },
    "colab_type": "code",
    "id": "bpIed0I5RYLf",
    "outputId": "ecbfabb7-c505-430b-e8aa-dbf0526259a2"
   },
   "outputs": [
    {
     "name": "stdout",
     "output_type": "stream",
     "text": [
      "[[1122  256]\n",
      " [ 274  856]]\n"
     ]
    }
   ],
   "source": [
    "print(confusion_matrix(y_test,mnb_pred))"
   ]
  },
  {
   "cell_type": "code",
   "execution_count": 42,
   "metadata": {
    "colab": {
     "base_uri": "https://localhost:8080/",
     "height": 0
    },
    "colab_type": "code",
    "id": "Xn-9erR2RYLh",
    "outputId": "52ad2c08-7522-4bb5-9389-b839a33526ba"
   },
   "outputs": [
    {
     "name": "stdout",
     "output_type": "stream",
     "text": [
      "              precision    recall  f1-score   support\n",
      "\n",
      "           0       0.80      0.81      0.81      1378\n",
      "           1       0.77      0.76      0.76      1130\n",
      "\n",
      "    accuracy                           0.79      2508\n",
      "   macro avg       0.79      0.79      0.79      2508\n",
      "weighted avg       0.79      0.79      0.79      2508\n",
      "\n"
     ]
    }
   ],
   "source": [
    "print(classification_report(y_test,mnb_pred))"
   ]
  },
  {
   "cell_type": "markdown",
   "metadata": {},
   "source": [
    "#### cross validation"
   ]
  },
  {
   "cell_type": "code",
   "execution_count": 43,
   "metadata": {},
   "outputs": [
    {
     "name": "stdout",
     "output_type": "stream",
     "text": [
      "[0.79681275 0.78165503 0.75972084 0.78464606 0.78065803 0.78364905\n",
      " 0.81256231 0.79361914 0.82352941 0.77567298]\n",
      "Accuracy: 0.79 (+/- 0.03)\n"
     ]
    }
   ],
   "source": [
    "# 10-fold cross-validation\n",
    "mnb_scores = cross_val_score(mnb, X, y, cv=10, scoring='accuracy',n_jobs = -1)\n",
    "print(mnb_scores)\n",
    "print(\"Accuracy: %0.2f (+/- %0.2f)\" % (mnb_scores.mean(), mnb_scores.std() * 2))"
   ]
  },
  {
   "cell_type": "markdown",
   "metadata": {
    "colab_type": "text",
    "id": "qg8Hb_o5RYLv"
   },
   "source": [
    "## 2.Random Forest"
   ]
  },
  {
   "cell_type": "code",
   "execution_count": 247,
   "metadata": {
    "colab": {},
    "colab_type": "code",
    "id": "h6JEcanMRYLx"
   },
   "outputs": [],
   "source": [
    "rfc = RandomForestClassifier(n_estimators=20, min_samples_leaf=1,criterion='gini',max_features=None,random_state = 0)"
   ]
  },
  {
   "cell_type": "code",
   "execution_count": 248,
   "metadata": {
    "colab": {
     "base_uri": "https://localhost:8080/",
     "height": 151
    },
    "colab_type": "code",
    "id": "k199AMlFRYLz",
    "outputId": "67463796-3ca6-480f-f6c9-7c378aa64755"
   },
   "outputs": [
    {
     "data": {
      "text/plain": [
       "RandomForestClassifier(bootstrap=True, class_weight=None, criterion='gini',\n",
       "                       max_depth=None, max_features=None, max_leaf_nodes=None,\n",
       "                       min_impurity_decrease=0.0, min_impurity_split=None,\n",
       "                       min_samples_leaf=1, min_samples_split=2,\n",
       "                       min_weight_fraction_leaf=0.0, n_estimators=20,\n",
       "                       n_jobs=None, oob_score=False, random_state=0, verbose=0,\n",
       "                       warm_start=False)"
      ]
     },
     "execution_count": 248,
     "metadata": {},
     "output_type": "execute_result"
    }
   ],
   "source": [
    "rfc.fit(X_train, y_train)"
   ]
  },
  {
   "cell_type": "markdown",
   "metadata": {
    "colab_type": "text",
    "id": "99yLc9pCRYL3"
   },
   "source": [
    "#### Prediction and Evaluation"
   ]
  },
  {
   "cell_type": "code",
   "execution_count": 249,
   "metadata": {
    "colab": {},
    "colab_type": "code",
    "id": "sdj5YFhaRYL4"
   },
   "outputs": [],
   "source": [
    "rfc_pred = rfc.predict(X_test)"
   ]
  },
  {
   "cell_type": "code",
   "execution_count": 250,
   "metadata": {
    "colab": {
     "base_uri": "https://localhost:8080/",
     "height": 50
    },
    "colab_type": "code",
    "id": "ZiWOZ_KXRYL7",
    "outputId": "efe2a3fb-bd83-47ba-c63e-a4e1603c2e44"
   },
   "outputs": [
    {
     "name": "stdout",
     "output_type": "stream",
     "text": [
      "[[1135  243]\n",
      " [ 311  819]]\n"
     ]
    }
   ],
   "source": [
    "print(confusion_matrix(y_test,rfc_pred))"
   ]
  },
  {
   "cell_type": "code",
   "execution_count": 251,
   "metadata": {
    "colab": {
     "base_uri": "https://localhost:8080/",
     "height": 168
    },
    "colab_type": "code",
    "id": "CoafAEPJRYL-",
    "outputId": "aeadc117-d953-430f-d69e-cb92fa064e05"
   },
   "outputs": [
    {
     "name": "stdout",
     "output_type": "stream",
     "text": [
      "              precision    recall  f1-score   support\n",
      "\n",
      "           0       0.78      0.82      0.80      1378\n",
      "           1       0.77      0.72      0.75      1130\n",
      "\n",
      "    accuracy                           0.78      2508\n",
      "   macro avg       0.78      0.77      0.78      2508\n",
      "weighted avg       0.78      0.78      0.78      2508\n",
      "\n"
     ]
    }
   ],
   "source": [
    "print(classification_report(y_test,rfc_pred))"
   ]
  },
  {
   "cell_type": "code",
   "execution_count": 252,
   "metadata": {},
   "outputs": [
    {
     "name": "stdout",
     "output_type": "stream",
     "text": [
      "[0.79482072 0.79561316 0.76969093 0.78065803 0.78165503 0.78564307\n",
      " 0.82552343 0.777667   0.80159521 0.777667  ]\n",
      "Accuracy: 0.79 (+/- 0.03)\n"
     ]
    }
   ],
   "source": [
    "# 10-fold cross-validation\n",
    "rfc_scores = cross_val_score(rfc, X, y, cv=10, scoring='accuracy',n_jobs = -1)\n",
    "print(rfc_scores)\n",
    "print(\"Accuracy: %0.2f (+/- %0.2f)\" % (rfc_scores.mean(), rfc_scores.std() * 2))"
   ]
  },
  {
   "cell_type": "markdown",
   "metadata": {
    "colab_type": "text",
    "id": "EUS6nOEURYMA"
   },
   "source": [
    "## 3.Support Vector Machine"
   ]
  },
  {
   "cell_type": "code",
   "execution_count": 253,
   "metadata": {
    "colab": {
     "base_uri": "https://localhost:8080/",
     "height": 84
    },
    "colab_type": "code",
    "id": "JKdy3pSGWEhb",
    "outputId": "b905d8d9-ee28-41ba-8453-d6cbdeec3fe4"
   },
   "outputs": [],
   "source": [
    "svm = SVC(kernel='linear') "
   ]
  },
  {
   "cell_type": "code",
   "execution_count": 254,
   "metadata": {},
   "outputs": [
    {
     "data": {
      "text/plain": [
       "SVC(C=1.0, cache_size=200, class_weight=None, coef0=0.0,\n",
       "    decision_function_shape='ovr', degree=3, gamma='auto_deprecated',\n",
       "    kernel='linear', max_iter=-1, probability=False, random_state=None,\n",
       "    shrinking=True, tol=0.001, verbose=False)"
      ]
     },
     "execution_count": 254,
     "metadata": {},
     "output_type": "execute_result"
    }
   ],
   "source": [
    "svm.fit(X_train,y_train)"
   ]
  },
  {
   "cell_type": "markdown",
   "metadata": {
    "colab_type": "text",
    "id": "DI-FeQ0zRYME"
   },
   "source": [
    "#### Prediction and Evaluation"
   ]
  },
  {
   "cell_type": "code",
   "execution_count": 255,
   "metadata": {
    "colab": {},
    "colab_type": "code",
    "id": "MFMPUBntWvfK"
   },
   "outputs": [],
   "source": [
    "svm_pred = svm.predict(X_test)"
   ]
  },
  {
   "cell_type": "code",
   "execution_count": 256,
   "metadata": {
    "colab": {
     "base_uri": "https://localhost:8080/",
     "height": 50
    },
    "colab_type": "code",
    "id": "aPbYp8OwXDBa",
    "outputId": "6c6b38e0-7d38-4d8a-cf14-c4e7b5654413"
   },
   "outputs": [
    {
     "name": "stdout",
     "output_type": "stream",
     "text": [
      "[[1098  280]\n",
      " [ 269  861]]\n"
     ]
    }
   ],
   "source": [
    "print(confusion_matrix(y_test,svm_pred))"
   ]
  },
  {
   "cell_type": "code",
   "execution_count": 257,
   "metadata": {
    "colab": {
     "base_uri": "https://localhost:8080/",
     "height": 168
    },
    "colab_type": "code",
    "id": "qkgNC76sXEX3",
    "outputId": "9e382040-a821-4896-f194-a5bf88324ada"
   },
   "outputs": [
    {
     "name": "stdout",
     "output_type": "stream",
     "text": [
      "              precision    recall  f1-score   support\n",
      "\n",
      "           0       0.80      0.80      0.80      1378\n",
      "           1       0.75      0.76      0.76      1130\n",
      "\n",
      "    accuracy                           0.78      2508\n",
      "   macro avg       0.78      0.78      0.78      2508\n",
      "weighted avg       0.78      0.78      0.78      2508\n",
      "\n"
     ]
    }
   ],
   "source": [
    "print(classification_report(y_test,svm_pred))"
   ]
  },
  {
   "cell_type": "code",
   "execution_count": 258,
   "metadata": {},
   "outputs": [
    {
     "name": "stdout",
     "output_type": "stream",
     "text": [
      "[0.79482072 0.77367896 0.76370887 0.79361914 0.78265204 0.78364905\n",
      " 0.81256231 0.80059821 0.7996012  0.79760718]\n",
      "Accuracy: 0.79 (+/- 0.03)\n"
     ]
    }
   ],
   "source": [
    "# 10-fold cross-validation\n",
    "svm_scores = cross_val_score(svm, X, y, cv=10, scoring='accuracy',n_jobs = -1)\n",
    "print(svm_scores)\n",
    "print(\"Accuracy: %0.2f (+/- %0.2f)\" % (svm_scores.mean(), svm_scores.std() * 2))"
   ]
  },
  {
   "cell_type": "markdown",
   "metadata": {
    "colab_type": "text",
    "id": "XM4KJPzwRYME"
   },
   "source": [
    "## 4.KNN"
   ]
  },
  {
   "cell_type": "code",
   "execution_count": 259,
   "metadata": {
    "colab": {},
    "colab_type": "code",
    "id": "Y-kPGmz1RYMH"
   },
   "outputs": [],
   "source": [
    "knn = KNeighborsClassifier(n_neighbors=5, metric='euclidean')"
   ]
  },
  {
   "cell_type": "code",
   "execution_count": 260,
   "metadata": {
    "colab": {
     "base_uri": "https://localhost:8080/",
     "height": 67
    },
    "colab_type": "code",
    "id": "zZTW1RZQRYMJ",
    "outputId": "1cd8bed4-b314-4864-e7ce-768b5e03870b"
   },
   "outputs": [
    {
     "data": {
      "text/plain": [
       "KNeighborsClassifier(algorithm='auto', leaf_size=30, metric='euclidean',\n",
       "                     metric_params=None, n_jobs=None, n_neighbors=5, p=2,\n",
       "                     weights='uniform')"
      ]
     },
     "execution_count": 260,
     "metadata": {},
     "output_type": "execute_result"
    }
   ],
   "source": [
    "knn.fit(X_train,y_train)"
   ]
  },
  {
   "cell_type": "code",
   "execution_count": 261,
   "metadata": {
    "colab": {},
    "colab_type": "code",
    "id": "nPdhdJ5hRYML"
   },
   "outputs": [],
   "source": [
    "knn_pred = knn.predict(X_test)"
   ]
  },
  {
   "cell_type": "markdown",
   "metadata": {
    "colab_type": "text",
    "id": "39AuBsGrRYMN"
   },
   "source": [
    "#### Prediction and Evaluation"
   ]
  },
  {
   "cell_type": "code",
   "execution_count": 262,
   "metadata": {
    "colab": {
     "base_uri": "https://localhost:8080/",
     "height": 50
    },
    "colab_type": "code",
    "id": "IihybNg5RYMN",
    "outputId": "5548481f-d355-4e32-f474-d248b80e0ada"
   },
   "outputs": [
    {
     "name": "stdout",
     "output_type": "stream",
     "text": [
      "[[1086  292]\n",
      " [ 305  825]]\n"
     ]
    }
   ],
   "source": [
    "print(confusion_matrix(y_test,knn_pred))"
   ]
  },
  {
   "cell_type": "code",
   "execution_count": 263,
   "metadata": {
    "colab": {
     "base_uri": "https://localhost:8080/",
     "height": 168
    },
    "colab_type": "code",
    "id": "f-_Te1oYRYMP",
    "outputId": "b501154d-b7ad-4b11-f804-5b90d4707425"
   },
   "outputs": [
    {
     "name": "stdout",
     "output_type": "stream",
     "text": [
      "              precision    recall  f1-score   support\n",
      "\n",
      "           0       0.78      0.79      0.78      1378\n",
      "           1       0.74      0.73      0.73      1130\n",
      "\n",
      "    accuracy                           0.76      2508\n",
      "   macro avg       0.76      0.76      0.76      2508\n",
      "weighted avg       0.76      0.76      0.76      2508\n",
      "\n"
     ]
    }
   ],
   "source": [
    "print(classification_report(y_test,knn_pred))"
   ]
  },
  {
   "cell_type": "markdown",
   "metadata": {
    "colab_type": "text",
    "id": "SzPYMi8ARYMR"
   },
   "source": [
    "##### Cross Validation"
   ]
  },
  {
   "cell_type": "code",
   "execution_count": 264,
   "metadata": {
    "colab": {
     "base_uri": "https://localhost:8080/",
     "height": 67
    },
    "colab_type": "code",
    "id": "Lbb_UI7fRYMY",
    "outputId": "7c9ffc52-8a65-428c-c8f6-ed2a4320fb58"
   },
   "outputs": [
    {
     "name": "stdout",
     "output_type": "stream",
     "text": [
      "[0.7938247  0.74775673 0.7337986  0.74975075 0.77168495 0.74775673\n",
      " 0.77268195 0.77168495 0.80059821 0.7666999 ]\n",
      "Accuracy: 0.77 (+/- 0.04)\n"
     ]
    }
   ],
   "source": [
    "# 10-fold cross-validation\n",
    "knn_scores = cross_val_score(knn, X, y, cv=10, scoring='accuracy',n_jobs = -1)\n",
    "print(knn_scores)\n",
    "print(\"Accuracy: %0.2f (+/- %0.2f)\" % (knn_scores.mean(), knn_scores.std() * 2))"
   ]
  },
  {
   "cell_type": "markdown",
   "metadata": {
    "colab_type": "text",
    "id": "SURVosTwRYMc"
   },
   "source": [
    "## 5. Neural Network"
   ]
  },
  {
   "cell_type": "code",
   "execution_count": 265,
   "metadata": {},
   "outputs": [],
   "source": [
    "nn = MLPClassifier(solver='adam', alpha=1e-5,hidden_layer_sizes=(10), random_state=0)"
   ]
  },
  {
   "cell_type": "code",
   "execution_count": 266,
   "metadata": {},
   "outputs": [
    {
     "data": {
      "text/plain": [
       "MLPClassifier(activation='relu', alpha=1e-05, batch_size='auto', beta_1=0.9,\n",
       "              beta_2=0.999, early_stopping=False, epsilon=1e-08,\n",
       "              hidden_layer_sizes=10, learning_rate='constant',\n",
       "              learning_rate_init=0.001, max_iter=200, momentum=0.9,\n",
       "              n_iter_no_change=10, nesterovs_momentum=True, power_t=0.5,\n",
       "              random_state=0, shuffle=True, solver='adam', tol=0.0001,\n",
       "              validation_fraction=0.1, verbose=False, warm_start=False)"
      ]
     },
     "execution_count": 266,
     "metadata": {},
     "output_type": "execute_result"
    }
   ],
   "source": [
    "nn.fit(X_train, y_train)"
   ]
  },
  {
   "cell_type": "markdown",
   "metadata": {},
   "source": [
    "#### Prediction and Evaluation"
   ]
  },
  {
   "cell_type": "code",
   "execution_count": 267,
   "metadata": {},
   "outputs": [],
   "source": [
    "nn_pred = nn.predict(X_test)"
   ]
  },
  {
   "cell_type": "code",
   "execution_count": 268,
   "metadata": {},
   "outputs": [
    {
     "name": "stdout",
     "output_type": "stream",
     "text": [
      "[[1095  283]\n",
      " [ 268  862]]\n"
     ]
    }
   ],
   "source": [
    "print(confusion_matrix(y_test,nn_pred))"
   ]
  },
  {
   "cell_type": "code",
   "execution_count": 269,
   "metadata": {},
   "outputs": [
    {
     "name": "stdout",
     "output_type": "stream",
     "text": [
      "              precision    recall  f1-score   support\n",
      "\n",
      "           0       0.80      0.79      0.80      1378\n",
      "           1       0.75      0.76      0.76      1130\n",
      "\n",
      "    accuracy                           0.78      2508\n",
      "   macro avg       0.78      0.78      0.78      2508\n",
      "weighted avg       0.78      0.78      0.78      2508\n",
      "\n"
     ]
    }
   ],
   "source": [
    "print(classification_report(y_test,nn_pred))"
   ]
  },
  {
   "cell_type": "code",
   "execution_count": 270,
   "metadata": {},
   "outputs": [
    {
     "name": "stdout",
     "output_type": "stream",
     "text": [
      "[0.79681275 0.77966102 0.77268195 0.78963111 0.78763709 0.77567298\n",
      " 0.80957129 0.79262213 0.80159521 0.78963111]\n",
      "Accuracy: 0.79 (+/- 0.02)\n"
     ]
    }
   ],
   "source": [
    "# 10-fold cross-validation\n",
    "nn_scores = cross_val_score(nn, X, y, cv=10, scoring='accuracy',n_jobs = -1)\n",
    "print(nn_scores)\n",
    "print(\"Accuracy: %0.2f (+/- %0.2f)\" % (nn_scores.mean(), nn_scores.std() * 2))"
   ]
  },
  {
   "cell_type": "markdown",
   "metadata": {},
   "source": [
    "## -------------------------------------------Feature Analysis -----------------------------------------------"
   ]
  },
  {
   "cell_type": "code",
   "execution_count": 50,
   "metadata": {},
   "outputs": [],
   "source": [
    "def modelTraining(isSubstring,isCharacter,ngrams_mode) :\n",
    "    Xfeatures = [gender_features(n,isSubstring,isCharacter,ngrams_mode) for n in df['firstName']]\n",
    "    X = dv.fit_transform(Xfeatures)\n",
    "    X_train, X_test, y_train, y_test = train_test_split(X, y, test_size=0.25, random_state=0)\n",
    "    #fit Model with new features\n",
    "    mnb.fit(X_train,y_train)\n",
    "    rfc.fit(X_train, y_train)\n",
    "    svm.fit(X_train,y_train)\n",
    "    knn.fit(X_train,y_train)\n",
    "    nn.fit(X_train, y_train)\n",
    "    accuracy = [\n",
    "                    cross_val_score(mnb, X, y, cv=10, scoring='accuracy',n_jobs = -1).mean(),\n",
    "                    cross_val_score(rfc, X, y, cv=10, scoring='accuracy',n_jobs = -1).mean(),\n",
    "                    cross_val_score(svm, X, y, cv=10, scoring='accuracy',n_jobs = -1).mean(),\n",
    "                    cross_val_score(knn, X, y, cv=10, scoring='accuracy',n_jobs = -1).mean(),\n",
    "                    cross_val_score(nn, X, y, cv=10, scoring='accuracy',n_jobs = -1).mean()\n",
    "                    ]\n",
    "    return accuracy"
   ]
  },
  {
   "cell_type": "markdown",
   "metadata": {},
   "source": [
    "## Only Substring"
   ]
  },
  {
   "cell_type": "code",
   "execution_count": 51,
   "metadata": {},
   "outputs": [],
   "source": [
    "isSubstring = True\n",
    "isCharacter = False\n",
    "ngrams_mode = 0 #modes == 0,1,2"
   ]
  },
  {
   "cell_type": "code",
   "execution_count": 52,
   "metadata": {},
   "outputs": [
    {
     "name": "stderr",
     "output_type": "stream",
     "text": [
      "C:\\Users\\s\\Anaconda3\\lib\\site-packages\\sklearn\\neural_network\\multilayer_perceptron.py:566: ConvergenceWarning: Stochastic Optimizer: Maximum iterations (200) reached and the optimization hasn't converged yet.\n",
      "  % self.max_iter, ConvergenceWarning)\n"
     ]
    }
   ],
   "source": [
    "accuracy_sub = modelTraining(isSubstring,isCharacter,ngrams_mode)"
   ]
  },
  {
   "cell_type": "code",
   "execution_count": 53,
   "metadata": {},
   "outputs": [
    {
     "data": {
      "text/plain": [
       "[0.7808787780086036,\n",
       " 0.7828722001326698,\n",
       " 0.7830720984456987,\n",
       " 0.7675193542877344,\n",
       " 0.7748970220811668]"
      ]
     },
     "execution_count": 53,
     "metadata": {},
     "output_type": "execute_result"
    }
   ],
   "source": [
    "accuracy_sub"
   ]
  },
  {
   "cell_type": "markdown",
   "metadata": {},
   "source": [
    "## Only Character Frequency"
   ]
  },
  {
   "cell_type": "code",
   "execution_count": 54,
   "metadata": {},
   "outputs": [],
   "source": [
    "isSubstring = False\n",
    "isCharacter = True\n",
    "ngrams_mode = 0 #modes == 0,1,2"
   ]
  },
  {
   "cell_type": "code",
   "execution_count": 55,
   "metadata": {},
   "outputs": [
    {
     "name": "stderr",
     "output_type": "stream",
     "text": [
      "C:\\Users\\s\\Anaconda3\\lib\\site-packages\\sklearn\\neural_network\\multilayer_perceptron.py:566: ConvergenceWarning: Stochastic Optimizer: Maximum iterations (200) reached and the optimization hasn't converged yet.\n",
      "  % self.max_iter, ConvergenceWarning)\n"
     ]
    }
   ],
   "source": [
    "accuracy_char = modelTraining(isSubstring,isCharacter,ngrams_mode)"
   ]
  },
  {
   "cell_type": "code",
   "execution_count": 56,
   "metadata": {},
   "outputs": [
    {
     "data": {
      "text/plain": [
       "[0.6243641585204546,\n",
       " 0.7348215314216713,\n",
       " 0.6309446163501528,\n",
       " 0.7085023813023081,\n",
       " 0.692952219040091]"
      ]
     },
     "execution_count": 56,
     "metadata": {},
     "output_type": "execute_result"
    }
   ],
   "source": [
    "accuracy_char"
   ]
  },
  {
   "cell_type": "markdown",
   "metadata": {},
   "source": [
    "### Only 1-Ngrams"
   ]
  },
  {
   "cell_type": "code",
   "execution_count": 57,
   "metadata": {},
   "outputs": [],
   "source": [
    "isSubstring = False\n",
    "isCharacter = False\n",
    "ngrams_mode = 1 #modes == 0,1,2"
   ]
  },
  {
   "cell_type": "code",
   "execution_count": 58,
   "metadata": {},
   "outputs": [
    {
     "name": "stderr",
     "output_type": "stream",
     "text": [
      "C:\\Users\\s\\Anaconda3\\lib\\site-packages\\sklearn\\neural_network\\multilayer_perceptron.py:566: ConvergenceWarning: Stochastic Optimizer: Maximum iterations (200) reached and the optimization hasn't converged yet.\n",
      "  % self.max_iter, ConvergenceWarning)\n"
     ]
    }
   ],
   "source": [
    "accuracy_1_ngrams = modelTraining(isSubstring,isCharacter,ngrams_mode)"
   ]
  },
  {
   "cell_type": "code",
   "execution_count": 59,
   "metadata": {},
   "outputs": [
    {
     "data": {
      "text/plain": [
       "[0.7577515461583377,\n",
       " 0.7484799585307822,\n",
       " 0.7609415776574658,\n",
       " 0.7137857344301756,\n",
       " 0.7516707844593709]"
      ]
     },
     "execution_count": 59,
     "metadata": {},
     "output_type": "execute_result"
    }
   ],
   "source": [
    "accuracy_1_ngrams"
   ]
  },
  {
   "cell_type": "markdown",
   "metadata": {},
   "source": [
    "### Only 2-Ngrams"
   ]
  },
  {
   "cell_type": "code",
   "execution_count": 60,
   "metadata": {},
   "outputs": [],
   "source": [
    "isSubstring = False\n",
    "isCharacter = False\n",
    "ngrams_mode = 2 #modes == 0,1,2"
   ]
  },
  {
   "cell_type": "code",
   "execution_count": 61,
   "metadata": {},
   "outputs": [],
   "source": [
    "accuracy_2_ngrams = modelTraining(isSubstring,isCharacter,ngrams_mode)"
   ]
  },
  {
   "cell_type": "code",
   "execution_count": 62,
   "metadata": {},
   "outputs": [
    {
     "data": {
      "text/plain": [
       "[0.6846767466524728,\n",
       " 0.6861712670752682,\n",
       " 0.6964399629795871,\n",
       " 0.5475976453110787,\n",
       " 0.6945452487160033]"
      ]
     },
     "execution_count": 62,
     "metadata": {},
     "output_type": "execute_result"
    }
   ],
   "source": [
    "accuracy_2_ngrams"
   ]
  },
  {
   "cell_type": "markdown",
   "metadata": {},
   "source": [
    "## Substring +  Character "
   ]
  },
  {
   "cell_type": "code",
   "execution_count": 63,
   "metadata": {},
   "outputs": [],
   "source": [
    "isSubstring = True\n",
    "isCharacter = True\n",
    "ngrams_mode = 0 #modes == 0,1,2"
   ]
  },
  {
   "cell_type": "code",
   "execution_count": 64,
   "metadata": {},
   "outputs": [],
   "source": [
    "accuracy_sub_char = modelTraining(isSubstring,isCharacter,ngrams_mode)"
   ]
  },
  {
   "cell_type": "code",
   "execution_count": 65,
   "metadata": {},
   "outputs": [
    {
     "data": {
      "text/plain": [
       "[0.7815768828971253,\n",
       " 0.7908481726136332,\n",
       " 0.7853652190837845,\n",
       " 0.7667222436276828,\n",
       " 0.7790832681239152]"
      ]
     },
     "execution_count": 65,
     "metadata": {},
     "output_type": "execute_result"
    }
   ],
   "source": [
    "accuracy_sub_char"
   ]
  },
  {
   "cell_type": "markdown",
   "metadata": {},
   "source": [
    "## Substring + 1Ngrams"
   ]
  },
  {
   "cell_type": "code",
   "execution_count": 66,
   "metadata": {},
   "outputs": [],
   "source": [
    "isSubstring = True\n",
    "isCharacter = False\n",
    "ngrams_mode = 1 #modes == 0,1,2"
   ]
  },
  {
   "cell_type": "code",
   "execution_count": 67,
   "metadata": {},
   "outputs": [],
   "source": [
    "accuracy_sub_1_ngrams = modelTraining(isSubstring,isCharacter,ngrams_mode)"
   ]
  },
  {
   "cell_type": "code",
   "execution_count": 68,
   "metadata": {},
   "outputs": [
    {
     "data": {
      "text/plain": [
       "[0.7871597359316473,\n",
       " 0.7861631241732968,\n",
       " 0.7857641219766993,\n",
       " 0.7760927377230857,\n",
       " 0.7825730974407454]"
      ]
     },
     "execution_count": 68,
     "metadata": {},
     "output_type": "execute_result"
    }
   ],
   "source": [
    "accuracy_sub_1_ngrams"
   ]
  },
  {
   "cell_type": "markdown",
   "metadata": {},
   "source": [
    "## Substring + 2Ngrams"
   ]
  },
  {
   "cell_type": "code",
   "execution_count": 69,
   "metadata": {},
   "outputs": [],
   "source": [
    "isSubstring = True\n",
    "isCharacter = False\n",
    "ngrams_mode = 2 #modes == 0,1,2"
   ]
  },
  {
   "cell_type": "code",
   "execution_count": 70,
   "metadata": {},
   "outputs": [],
   "source": [
    "accuracy_sub_2_ngrams = modelTraining(isSubstring,isCharacter,ngrams_mode)"
   ]
  },
  {
   "cell_type": "code",
   "execution_count": 71,
   "metadata": {},
   "outputs": [
    {
     "data": {
      "text/plain": [
       "[0.7876574459887271,\n",
       " 0.7848665159898789,\n",
       " 0.7879569458953817,\n",
       " 0.7670201546754161,\n",
       " 0.7853636302248633]"
      ]
     },
     "execution_count": 71,
     "metadata": {},
     "output_type": "execute_result"
    }
   ],
   "source": [
    "accuracy_sub_2_ngrams"
   ]
  },
  {
   "cell_type": "markdown",
   "metadata": {},
   "source": [
    "## Character + 1Ngrams"
   ]
  },
  {
   "cell_type": "code",
   "execution_count": 72,
   "metadata": {},
   "outputs": [],
   "source": [
    "isSubstring = False\n",
    "isCharacter = True\n",
    "ngrams_mode = 1 #modes == 0,1,2"
   ]
  },
  {
   "cell_type": "code",
   "execution_count": 73,
   "metadata": {},
   "outputs": [
    {
     "name": "stderr",
     "output_type": "stream",
     "text": [
      "C:\\Users\\s\\Anaconda3\\lib\\site-packages\\sklearn\\neural_network\\multilayer_perceptron.py:566: ConvergenceWarning: Stochastic Optimizer: Maximum iterations (200) reached and the optimization hasn't converged yet.\n",
      "  % self.max_iter, ConvergenceWarning)\n"
     ]
    }
   ],
   "source": [
    "accuracy_char_1_ngrams = modelTraining(isSubstring,isCharacter,ngrams_mode)"
   ]
  },
  {
   "cell_type": "code",
   "execution_count": 74,
   "metadata": {},
   "outputs": [
    {
     "data": {
      "text/plain": [
       "[0.7593480514631403,\n",
       " 0.7721044039197149,\n",
       " 0.7734034946951973,\n",
       " 0.7440911329755753,\n",
       " 0.7624373890281347]"
      ]
     },
     "execution_count": 74,
     "metadata": {},
     "output_type": "execute_result"
    }
   ],
   "source": [
    "accuracy_char_1_ngrams"
   ]
  },
  {
   "cell_type": "markdown",
   "metadata": {},
   "source": [
    "## Character + 2Ngrams"
   ]
  },
  {
   "cell_type": "code",
   "execution_count": 75,
   "metadata": {},
   "outputs": [],
   "source": [
    "isSubstring = False\n",
    "isCharacter = True\n",
    "ngrams_mode = 2 #modes == 0,1,2"
   ]
  },
  {
   "cell_type": "code",
   "execution_count": 76,
   "metadata": {},
   "outputs": [
    {
     "name": "stderr",
     "output_type": "stream",
     "text": [
      "C:\\Users\\s\\Anaconda3\\lib\\site-packages\\sklearn\\neural_network\\multilayer_perceptron.py:566: ConvergenceWarning: Stochastic Optimizer: Maximum iterations (200) reached and the optimization hasn't converged yet.\n",
      "  % self.max_iter, ConvergenceWarning)\n"
     ]
    }
   ],
   "source": [
    "accuracy_char_2_ngrams = modelTraining(isSubstring,isCharacter,ngrams_mode)"
   ]
  },
  {
   "cell_type": "code",
   "execution_count": 77,
   "metadata": {},
   "outputs": [
    {
     "data": {
      "text/plain": [
       "[0.7177731745004032,\n",
       " 0.7439913327745846,\n",
       " 0.7314322967352921,\n",
       " 0.7154807489880953,\n",
       " 0.7279415736853186]"
      ]
     },
     "execution_count": 77,
     "metadata": {},
     "output_type": "execute_result"
    }
   ],
   "source": [
    "accuracy_char_2_ngrams"
   ]
  },
  {
   "cell_type": "markdown",
   "metadata": {},
   "source": [
    "## Character +Substring + 1Ngrams"
   ]
  },
  {
   "cell_type": "code",
   "execution_count": 78,
   "metadata": {},
   "outputs": [],
   "source": [
    "isSubstring = True\n",
    "isCharacter = True\n",
    "ngrams_mode = 1 #modes == 0,1,2"
   ]
  },
  {
   "cell_type": "code",
   "execution_count": 79,
   "metadata": {},
   "outputs": [],
   "source": [
    "accuracy_char_sub_1_ngrams = modelTraining(isSubstring,isCharacter,ngrams_mode)"
   ]
  },
  {
   "cell_type": "code",
   "execution_count": 80,
   "metadata": {},
   "outputs": [
    {
     "data": {
      "text/plain": [
       "[0.7877580406191783,\n",
       " 0.7890533578547226,\n",
       " 0.7874586400162062,\n",
       " 0.7711084872871425,\n",
       " 0.7802806719284379]"
      ]
     },
     "execution_count": 80,
     "metadata": {},
     "output_type": "execute_result"
    }
   ],
   "source": [
    "accuracy_char_sub_1_ngrams"
   ]
  },
  {
   "cell_type": "markdown",
   "metadata": {},
   "source": [
    "## Character +Substring + 2Ngrams"
   ]
  },
  {
   "cell_type": "code",
   "execution_count": 81,
   "metadata": {},
   "outputs": [],
   "source": [
    "isSubstring = True\n",
    "isCharacter = True\n",
    "ngrams_mode = 2 #modes == 0,1,2"
   ]
  },
  {
   "cell_type": "code",
   "execution_count": 82,
   "metadata": {},
   "outputs": [],
   "source": [
    "accuracy_char_sub_2_ngrams = modelTraining(isSubstring,isCharacter,ngrams_mode)"
   ]
  },
  {
   "cell_type": "code",
   "execution_count": 83,
   "metadata": {},
   "outputs": [
    {
     "data": {
      "text/plain": [
       "[0.7892525610419737,\n",
       " 0.7890533578547227,\n",
       " 0.7902497686224196,\n",
       " 0.7656237462910076,\n",
       " 0.789551663733898]"
      ]
     },
     "execution_count": 83,
     "metadata": {},
     "output_type": "execute_result"
    }
   ],
   "source": [
    "accuracy_char_sub_2_ngrams"
   ]
  },
  {
   "cell_type": "code",
   "execution_count": 84,
   "metadata": {},
   "outputs": [
    {
     "data": {
      "text/plain": [
       "[0.7778478905911747,\n",
       " 0.6783169813269355,\n",
       " 0.7465259202472264,\n",
       " 0.661886174146882,\n",
       " 0.7835505634490949,\n",
       " 0.7825729385548534,\n",
       " 0.7807191572692282,\n",
       " 0.7835505634490949,\n",
       " 0.7825729385548534,\n",
       " 0.7622768944163525,\n",
       " 0.7273238253367388,\n",
       " 0.7831318395411375,\n",
       " 0.7847462195088043]"
      ]
     },
     "execution_count": 84,
     "metadata": {},
     "output_type": "execute_result"
    }
   ],
   "source": [
    "\n",
    "accuracy_mean = [mean(accuracy_sub),\n",
    "                 mean(accuracy_char),\n",
    "                 mean(accuracy_1_ngrams),\n",
    "                 mean(accuracy_2_ngrams),\n",
    "                 mean(accuracy_sub_1_ngrams),\n",
    "                 mean(accuracy_sub_2_ngrams),\n",
    "                 mean(accuracy_sub_char),\n",
    "                 mean(accuracy_sub_1_ngrams),\n",
    "                 mean(accuracy_sub_2_ngrams),\n",
    "                 mean(accuracy_char_1_ngrams),\n",
    "                 mean(accuracy_char_2_ngrams),\n",
    "                 mean(accuracy_char_sub_1_ngrams),\n",
    "                 mean(accuracy_char_sub_2_ngrams)\n",
    "                ]\n",
    "accuracy_mean"
   ]
  },
  {
   "cell_type": "markdown",
   "metadata": {},
   "source": [
    "## --------------------------------------------- Model Tuning ----------------------------------------------"
   ]
  },
  {
   "cell_type": "code",
   "execution_count": 29,
   "metadata": {},
   "outputs": [],
   "source": [
    "# Function for model tuning\n",
    "def modelTuning(modelType,tuned_parameters,n_iter,isFinalModel) :\n",
    "    scores = ['accuracy']\n",
    "    for score in scores:\n",
    "        print(\"# Tuning hyper-parameters for %s\" % score)\n",
    "        print()\n",
    "\n",
    "        grid = RandomizedSearchCV(\n",
    "            modelType, tuned_parameters, scoring='%s' % score,cv = 3,n_jobs=-1,n_iter=n_iter,verbose = 1,random_state = 0\n",
    "        )\n",
    "        if (not isFinalModel) :\n",
    "            grid.fit(X_train, y_train)\n",
    "        else :\n",
    "            grid.fit(enn_X_train,enn_y_train)\n",
    "\n",
    "        print(\"Best parameters set found on development set:\")\n",
    "        print()\n",
    "        print(grid.best_params_)\n",
    "        print()\n",
    "        print(\"Grid scores on development set:\")\n",
    "        print()\n",
    "        means = grid.cv_results_['mean_test_score']\n",
    "        stds = grid.cv_results_['std_test_score']\n",
    "        for mean, std, params in zip(means, stds, grid.cv_results_['params']):\n",
    "            print(\"%0.3f (+/-%0.03f) for %r\"\n",
    "                  % (mean, std * 2, params))\n",
    "        print()\n",
    "\n",
    "        print(\"Detailed classification report:\")\n",
    "        print()\n",
    "        print(\"The model is trained on the full development set.\")\n",
    "        print(\"The scores are computed on the full evaluation set.\")\n",
    "        print()\n",
    "        if (not isFinalModel) :\n",
    "            y_true, y_pred = y_test, grid.predict(X_test)\n",
    "        else :\n",
    "            y_true, y_pred = enn_y_test,grid.predict(enn_X_test)\n",
    "            \n",
    "        print(confusion_matrix(y_true, y_pred))\n",
    "        print(classification_report(y_true, y_pred))\n",
    "        print()\n",
    "        return grid"
   ]
  },
  {
   "cell_type": "code",
   "execution_count": 30,
   "metadata": {},
   "outputs": [],
   "source": [
    "isSubstring = True\n",
    "isCharacter = True\n",
    "ngrams_mode = 2 #modes == 0,1,2\n",
    "Xfeatures = [gender_features(n,isSubstring,isCharacter,ngrams_mode) for n in df['firstName']]\n",
    "X = dv.fit_transform(Xfeatures)\n",
    "X_train, X_test, y_train, y_test = train_test_split(X, y, test_size=0.25, random_state=0)"
   ]
  },
  {
   "cell_type": "markdown",
   "metadata": {},
   "source": [
    "## 1.Multinomial Naive Bayes"
   ]
  },
  {
   "cell_type": "code",
   "execution_count": 87,
   "metadata": {},
   "outputs": [
    {
     "data": {
      "text/plain": [
       "{'alpha': 1.0, 'class_prior': None, 'fit_prior': True}"
      ]
     },
     "execution_count": 87,
     "metadata": {},
     "output_type": "execute_result"
    }
   ],
   "source": [
    "#Get Parameters\n",
    "mnb.get_params()"
   ]
  },
  {
   "cell_type": "code",
   "execution_count": 88,
   "metadata": {},
   "outputs": [],
   "source": [
    "tuned_parameters = {'alpha': [1e-4,1e-3,1e-2,1e-1,1]}"
   ]
  },
  {
   "cell_type": "code",
   "execution_count": 89,
   "metadata": {},
   "outputs": [
    {
     "name": "stdout",
     "output_type": "stream",
     "text": [
      "# Tuning hyper-parameters for accuracy\n",
      "\n",
      "Fitting 3 folds for each of 5 candidates, totalling 15 fits\n"
     ]
    },
    {
     "name": "stderr",
     "output_type": "stream",
     "text": [
      "[Parallel(n_jobs=-1)]: Using backend LokyBackend with 8 concurrent workers.\n",
      "[Parallel(n_jobs=-1)]: Done  15 out of  15 | elapsed:    0.0s finished\n"
     ]
    },
    {
     "name": "stdout",
     "output_type": "stream",
     "text": [
      "Best parameters set found on development set:\n",
      "\n",
      "{'alpha': 0.1}\n",
      "\n",
      "Grid scores on development set:\n",
      "\n",
      "0.785 (+/-0.013) for {'alpha': 0.0001}\n",
      "0.786 (+/-0.014) for {'alpha': 0.001}\n",
      "0.788 (+/-0.012) for {'alpha': 0.01}\n",
      "0.791 (+/-0.015) for {'alpha': 0.1}\n",
      "0.785 (+/-0.011) for {'alpha': 1}\n",
      "\n",
      "Detailed classification report:\n",
      "\n",
      "The model is trained on the full development set.\n",
      "The scores are computed on the full evaluation set.\n",
      "\n",
      "[[1096  282]\n",
      " [ 243  887]]\n",
      "              precision    recall  f1-score   support\n",
      "\n",
      "           0       0.82      0.80      0.81      1378\n",
      "           1       0.76      0.78      0.77      1130\n",
      "\n",
      "    accuracy                           0.79      2508\n",
      "   macro avg       0.79      0.79      0.79      2508\n",
      "weighted avg       0.79      0.79      0.79      2508\n",
      "\n",
      "\n"
     ]
    }
   ],
   "source": [
    "mnb = modelTuning(MultinomialNB(),tuned_parameters,5,False)"
   ]
  },
  {
   "cell_type": "markdown",
   "metadata": {},
   "source": [
    "## 2.Random Forest"
   ]
  },
  {
   "cell_type": "code",
   "execution_count": 90,
   "metadata": {},
   "outputs": [
    {
     "data": {
      "text/plain": [
       "{'bootstrap': True,\n",
       " 'class_weight': None,\n",
       " 'criterion': 'gini',\n",
       " 'max_depth': None,\n",
       " 'max_features': None,\n",
       " 'max_leaf_nodes': None,\n",
       " 'min_impurity_decrease': 0.0,\n",
       " 'min_impurity_split': None,\n",
       " 'min_samples_leaf': 1,\n",
       " 'min_samples_split': 2,\n",
       " 'min_weight_fraction_leaf': 0.0,\n",
       " 'n_estimators': 20,\n",
       " 'n_jobs': None,\n",
       " 'oob_score': False,\n",
       " 'random_state': 0,\n",
       " 'verbose': 0,\n",
       " 'warm_start': False}"
      ]
     },
     "execution_count": 90,
     "metadata": {},
     "output_type": "execute_result"
    }
   ],
   "source": [
    "#Get Parameters\n",
    "rfc.get_params()"
   ]
  },
  {
   "cell_type": "code",
   "execution_count": 91,
   "metadata": {},
   "outputs": [],
   "source": [
    "# Number of trees in random forest\n",
    "n_estimators = [int(x) for x in np.linspace(start = 200, stop = 2000, num = 10)]\n",
    "# Number of features to consider at every split\n",
    "max_features = ['auto', 'sqrt']\n",
    "# Maximum number of levels in tree\n",
    "max_depth = [int(x) for x in np.linspace(10, 110, num = 11)]\n",
    "max_depth.append(None)\n",
    "# Minimum number of samples required to split a node\n",
    "min_samples_split = [2, 5, 10]\n",
    "# Minimum number of samples required at each leaf node\n",
    "min_samples_leaf = [1, 2, 4]\n",
    "# Method of selecting samples for training each tree\n",
    "bootstrap = [True, False]"
   ]
  },
  {
   "cell_type": "code",
   "execution_count": 92,
   "metadata": {},
   "outputs": [
    {
     "name": "stdout",
     "output_type": "stream",
     "text": [
      "{'bootstrap': [True, False],\n",
      " 'max_depth': [10, 20, 30, 40, 50, 60, 70, 80, 90, 100, 110, None],\n",
      " 'max_features': ['auto', 'sqrt'],\n",
      " 'min_samples_leaf': [1, 2, 4],\n",
      " 'min_samples_split': [2, 5, 10],\n",
      " 'n_estimators': [200, 400, 600, 800, 1000, 1200, 1400, 1600, 1800, 2000]}\n"
     ]
    }
   ],
   "source": [
    "tuned_parameters = {'n_estimators': n_estimators,\n",
    "                    'max_features': max_features,\n",
    "                    'max_depth': max_depth,\n",
    "                    'min_samples_split': min_samples_split,\n",
    "                    'min_samples_leaf': min_samples_leaf,\n",
    "                    'bootstrap': bootstrap}\n",
    "pprint({'n_estimators': n_estimators,\n",
    "                    'max_features': max_features,\n",
    "                    'max_depth': max_depth,\n",
    "                    'min_samples_split': min_samples_split,\n",
    "                    'min_samples_leaf': min_samples_leaf,\n",
    "                    'bootstrap': bootstrap})"
   ]
  },
  {
   "cell_type": "code",
   "execution_count": 93,
   "metadata": {},
   "outputs": [
    {
     "name": "stdout",
     "output_type": "stream",
     "text": [
      "# Tuning hyper-parameters for accuracy\n",
      "\n",
      "Fitting 3 folds for each of 100 candidates, totalling 300 fits\n"
     ]
    },
    {
     "name": "stderr",
     "output_type": "stream",
     "text": [
      "[Parallel(n_jobs=-1)]: Using backend LokyBackend with 8 concurrent workers.\n",
      "[Parallel(n_jobs=-1)]: Done  34 tasks      | elapsed:  6.2min\n",
      "[Parallel(n_jobs=-1)]: Done 184 tasks      | elapsed: 33.2min\n",
      "[Parallel(n_jobs=-1)]: Done 300 out of 300 | elapsed: 53.9min finished\n"
     ]
    },
    {
     "name": "stdout",
     "output_type": "stream",
     "text": [
      "Best parameters set found on development set:\n",
      "\n",
      "{'n_estimators': 2000, 'min_samples_split': 5, 'min_samples_leaf': 1, 'max_features': 'auto', 'max_depth': 100, 'bootstrap': False}\n",
      "\n",
      "Grid scores on development set:\n",
      "\n",
      "0.757 (+/-0.003) for {'n_estimators': 400, 'min_samples_split': 10, 'min_samples_leaf': 1, 'max_features': 'sqrt', 'max_depth': 40, 'bootstrap': True}\n",
      "0.788 (+/-0.004) for {'n_estimators': 1200, 'min_samples_split': 2, 'min_samples_leaf': 1, 'max_features': 'sqrt', 'max_depth': 90, 'bootstrap': True}\n",
      "0.719 (+/-0.009) for {'n_estimators': 200, 'min_samples_split': 5, 'min_samples_leaf': 2, 'max_features': 'sqrt', 'max_depth': 20, 'bootstrap': False}\n",
      "0.716 (+/-0.008) for {'n_estimators': 600, 'min_samples_split': 2, 'min_samples_leaf': 2, 'max_features': 'auto', 'max_depth': 20, 'bootstrap': False}\n",
      "0.793 (+/-0.010) for {'n_estimators': 400, 'min_samples_split': 2, 'min_samples_leaf': 1, 'max_features': 'sqrt', 'max_depth': None, 'bootstrap': False}\n",
      "0.711 (+/-0.012) for {'n_estimators': 400, 'min_samples_split': 5, 'min_samples_leaf': 4, 'max_features': 'sqrt', 'max_depth': 20, 'bootstrap': False}\n",
      "0.748 (+/-0.002) for {'n_estimators': 2000, 'min_samples_split': 5, 'min_samples_leaf': 1, 'max_features': 'sqrt', 'max_depth': 30, 'bootstrap': False}\n",
      "0.773 (+/-0.002) for {'n_estimators': 1200, 'min_samples_split': 5, 'min_samples_leaf': 2, 'max_features': 'auto', 'max_depth': 110, 'bootstrap': False}\n",
      "0.760 (+/-0.008) for {'n_estimators': 200, 'min_samples_split': 2, 'min_samples_leaf': 2, 'max_features': 'sqrt', 'max_depth': 80, 'bootstrap': True}\n",
      "0.678 (+/-0.019) for {'n_estimators': 600, 'min_samples_split': 5, 'min_samples_leaf': 4, 'max_features': 'auto', 'max_depth': 10, 'bootstrap': False}\n",
      "0.746 (+/-0.007) for {'n_estimators': 600, 'min_samples_split': 2, 'min_samples_leaf': 4, 'max_features': 'sqrt', 'max_depth': 70, 'bootstrap': False}\n",
      "0.795 (+/-0.002) for {'n_estimators': 1800, 'min_samples_split': 10, 'min_samples_leaf': 1, 'max_features': 'auto', 'max_depth': 100, 'bootstrap': False}\n",
      "0.729 (+/-0.006) for {'n_estimators': 2000, 'min_samples_split': 10, 'min_samples_leaf': 4, 'max_features': 'auto', 'max_depth': 50, 'bootstrap': True}\n",
      "0.792 (+/-0.004) for {'n_estimators': 1800, 'min_samples_split': 2, 'min_samples_leaf': 1, 'max_features': 'sqrt', 'max_depth': None, 'bootstrap': True}\n",
      "0.761 (+/-0.007) for {'n_estimators': 800, 'min_samples_split': 10, 'min_samples_leaf': 2, 'max_features': 'sqrt', 'max_depth': 110, 'bootstrap': True}\n",
      "0.683 (+/-0.023) for {'n_estimators': 1000, 'min_samples_split': 2, 'min_samples_leaf': 1, 'max_features': 'sqrt', 'max_depth': 10, 'bootstrap': False}\n",
      "0.767 (+/-0.002) for {'n_estimators': 1800, 'min_samples_split': 2, 'min_samples_leaf': 2, 'max_features': 'auto', 'max_depth': 80, 'bootstrap': False}\n",
      "0.718 (+/-0.011) for {'n_estimators': 1800, 'min_samples_split': 5, 'min_samples_leaf': 4, 'max_features': 'sqrt', 'max_depth': 30, 'bootstrap': True}\n",
      "0.682 (+/-0.015) for {'n_estimators': 2000, 'min_samples_split': 5, 'min_samples_leaf': 4, 'max_features': 'auto', 'max_depth': 10, 'bootstrap': False}\n",
      "0.765 (+/-0.010) for {'n_estimators': 600, 'min_samples_split': 5, 'min_samples_leaf': 2, 'max_features': 'sqrt', 'max_depth': None, 'bootstrap': True}\n",
      "0.710 (+/-0.010) for {'n_estimators': 600, 'min_samples_split': 2, 'min_samples_leaf': 2, 'max_features': 'sqrt', 'max_depth': 20, 'bootstrap': True}\n",
      "0.772 (+/-0.003) for {'n_estimators': 800, 'min_samples_split': 10, 'min_samples_leaf': 2, 'max_features': 'auto', 'max_depth': 110, 'bootstrap': False}\n",
      "0.733 (+/-0.010) for {'n_estimators': 1200, 'min_samples_split': 5, 'min_samples_leaf': 2, 'max_features': 'auto', 'max_depth': 30, 'bootstrap': False}\n",
      "0.766 (+/-0.003) for {'n_estimators': 200, 'min_samples_split': 5, 'min_samples_leaf': 2, 'max_features': 'auto', 'max_depth': 90, 'bootstrap': False}\n",
      "0.756 (+/-0.007) for {'n_estimators': 800, 'min_samples_split': 2, 'min_samples_leaf': 2, 'max_features': 'sqrt', 'max_depth': 50, 'bootstrap': False}\n",
      "0.734 (+/-0.007) for {'n_estimators': 1800, 'min_samples_split': 10, 'min_samples_leaf': 4, 'max_features': 'auto', 'max_depth': 110, 'bootstrap': True}\n",
      "0.768 (+/-0.007) for {'n_estimators': 1000, 'min_samples_split': 5, 'min_samples_leaf': 1, 'max_features': 'auto', 'max_depth': 40, 'bootstrap': False}\n",
      "0.760 (+/-0.003) for {'n_estimators': 800, 'min_samples_split': 10, 'min_samples_leaf': 2, 'max_features': 'sqrt', 'max_depth': 60, 'bootstrap': False}\n",
      "0.745 (+/-0.011) for {'n_estimators': 1600, 'min_samples_split': 10, 'min_samples_leaf': 2, 'max_features': 'sqrt', 'max_depth': 40, 'bootstrap': False}\n",
      "0.716 (+/-0.009) for {'n_estimators': 1400, 'min_samples_split': 5, 'min_samples_leaf': 4, 'max_features': 'sqrt', 'max_depth': 30, 'bootstrap': True}\n",
      "0.733 (+/-0.010) for {'n_estimators': 1600, 'min_samples_split': 10, 'min_samples_leaf': 2, 'max_features': 'sqrt', 'max_depth': 30, 'bootstrap': False}\n",
      "0.723 (+/-0.011) for {'n_estimators': 1000, 'min_samples_split': 5, 'min_samples_leaf': 4, 'max_features': 'auto', 'max_depth': 30, 'bootstrap': False}\n",
      "0.794 (+/-0.004) for {'n_estimators': 1400, 'min_samples_split': 10, 'min_samples_leaf': 1, 'max_features': 'auto', 'max_depth': 110, 'bootstrap': False}\n",
      "0.767 (+/-0.001) for {'n_estimators': 1200, 'min_samples_split': 10, 'min_samples_leaf': 2, 'max_features': 'sqrt', 'max_depth': 80, 'bootstrap': False}\n",
      "0.756 (+/-0.006) for {'n_estimators': 1000, 'min_samples_split': 2, 'min_samples_leaf': 2, 'max_features': 'auto', 'max_depth': 70, 'bootstrap': True}\n",
      "0.761 (+/-0.004) for {'n_estimators': 2000, 'min_samples_split': 5, 'min_samples_leaf': 2, 'max_features': 'auto', 'max_depth': 90, 'bootstrap': True}\n",
      "0.772 (+/-0.002) for {'n_estimators': 1400, 'min_samples_split': 2, 'min_samples_leaf': 2, 'max_features': 'auto', 'max_depth': 100, 'bootstrap': False}\n",
      "0.734 (+/-0.008) for {'n_estimators': 2000, 'min_samples_split': 5, 'min_samples_leaf': 4, 'max_features': 'sqrt', 'max_depth': 100, 'bootstrap': True}\n",
      "0.725 (+/-0.007) for {'n_estimators': 1400, 'min_samples_split': 10, 'min_samples_leaf': 4, 'max_features': 'sqrt', 'max_depth': 40, 'bootstrap': True}\n",
      "0.786 (+/-0.006) for {'n_estimators': 400, 'min_samples_split': 2, 'min_samples_leaf': 1, 'max_features': 'auto', 'max_depth': 100, 'bootstrap': True}\n",
      "0.763 (+/-0.004) for {'n_estimators': 1200, 'min_samples_split': 5, 'min_samples_leaf': 2, 'max_features': 'sqrt', 'max_depth': None, 'bootstrap': True}\n",
      "0.795 (+/-0.002) for {'n_estimators': 2000, 'min_samples_split': 5, 'min_samples_leaf': 1, 'max_features': 'auto', 'max_depth': 100, 'bootstrap': False}\n",
      "0.709 (+/-0.011) for {'n_estimators': 1000, 'min_samples_split': 2, 'min_samples_leaf': 2, 'max_features': 'auto', 'max_depth': 20, 'bootstrap': True}\n",
      "0.748 (+/-0.003) for {'n_estimators': 800, 'min_samples_split': 5, 'min_samples_leaf': 1, 'max_features': 'sqrt', 'max_depth': 30, 'bootstrap': False}\n",
      "0.723 (+/-0.016) for {'n_estimators': 400, 'min_samples_split': 10, 'min_samples_leaf': 4, 'max_features': 'auto', 'max_depth': 30, 'bootstrap': False}\n",
      "0.794 (+/-0.001) for {'n_estimators': 1200, 'min_samples_split': 10, 'min_samples_leaf': 1, 'max_features': 'auto', 'max_depth': 100, 'bootstrap': False}\n",
      "0.788 (+/-0.003) for {'n_estimators': 1200, 'min_samples_split': 10, 'min_samples_leaf': 1, 'max_features': 'sqrt', 'max_depth': None, 'bootstrap': True}\n",
      "0.685 (+/-0.017) for {'n_estimators': 1600, 'min_samples_split': 10, 'min_samples_leaf': 1, 'max_features': 'sqrt', 'max_depth': 10, 'bootstrap': False}\n",
      "0.740 (+/-0.009) for {'n_estimators': 1800, 'min_samples_split': 5, 'min_samples_leaf': 2, 'max_features': 'sqrt', 'max_depth': 40, 'bootstrap': True}\n",
      "0.749 (+/-0.007) for {'n_estimators': 1400, 'min_samples_split': 2, 'min_samples_leaf': 4, 'max_features': 'sqrt', 'max_depth': 100, 'bootstrap': False}\n",
      "0.765 (+/-0.006) for {'n_estimators': 1200, 'min_samples_split': 10, 'min_samples_leaf': 2, 'max_features': 'sqrt', 'max_depth': None, 'bootstrap': True}\n",
      "0.789 (+/-0.001) for {'n_estimators': 1800, 'min_samples_split': 5, 'min_samples_leaf': 1, 'max_features': 'auto', 'max_depth': 110, 'bootstrap': True}\n",
      "0.771 (+/-0.003) for {'n_estimators': 2000, 'min_samples_split': 2, 'min_samples_leaf': 2, 'max_features': 'sqrt', 'max_depth': 100, 'bootstrap': False}\n",
      "0.735 (+/-0.010) for {'n_estimators': 800, 'min_samples_split': 10, 'min_samples_leaf': 4, 'max_features': 'auto', 'max_depth': 90, 'bootstrap': True}\n",
      "0.748 (+/-0.009) for {'n_estimators': 200, 'min_samples_split': 5, 'min_samples_leaf': 4, 'max_features': 'auto', 'max_depth': 110, 'bootstrap': False}\n",
      "0.790 (+/-0.001) for {'n_estimators': 800, 'min_samples_split': 2, 'min_samples_leaf': 1, 'max_features': 'sqrt', 'max_depth': 90, 'bootstrap': True}\n",
      "0.748 (+/-0.011) for {'n_estimators': 200, 'min_samples_split': 2, 'min_samples_leaf': 4, 'max_features': 'auto', 'max_depth': None, 'bootstrap': False}\n",
      "0.678 (+/-0.017) for {'n_estimators': 600, 'min_samples_split': 5, 'min_samples_leaf': 4, 'max_features': 'auto', 'max_depth': 10, 'bootstrap': True}\n",
      "0.740 (+/-0.010) for {'n_estimators': 600, 'min_samples_split': 2, 'min_samples_leaf': 4, 'max_features': 'sqrt', 'max_depth': 50, 'bootstrap': False}\n",
      "0.683 (+/-0.023) for {'n_estimators': 1000, 'min_samples_split': 2, 'min_samples_leaf': 1, 'max_features': 'auto', 'max_depth': 10, 'bootstrap': False}\n",
      "0.733 (+/-0.007) for {'n_estimators': 1000, 'min_samples_split': 5, 'min_samples_leaf': 4, 'max_features': 'auto', 'max_depth': 80, 'bootstrap': True}\n",
      "0.789 (+/-0.004) for {'n_estimators': 400, 'min_samples_split': 2, 'min_samples_leaf': 1, 'max_features': 'auto', 'max_depth': 70, 'bootstrap': False}\n",
      "0.755 (+/-0.008) for {'n_estimators': 400, 'min_samples_split': 10, 'min_samples_leaf': 2, 'max_features': 'sqrt', 'max_depth': 50, 'bootstrap': False}\n",
      "0.730 (+/-0.010) for {'n_estimators': 800, 'min_samples_split': 5, 'min_samples_leaf': 4, 'max_features': 'sqrt', 'max_depth': 50, 'bootstrap': True}\n",
      "0.793 (+/-0.004) for {'n_estimators': 1600, 'min_samples_split': 2, 'min_samples_leaf': 1, 'max_features': 'sqrt', 'max_depth': 100, 'bootstrap': False}\n",
      "0.779 (+/-0.006) for {'n_estimators': 1800, 'min_samples_split': 5, 'min_samples_leaf': 1, 'max_features': 'auto', 'max_depth': 50, 'bootstrap': False}\n",
      "0.788 (+/-0.005) for {'n_estimators': 2000, 'min_samples_split': 10, 'min_samples_leaf': 1, 'max_features': 'auto', 'max_depth': 110, 'bootstrap': True}\n",
      "0.763 (+/-0.008) for {'n_estimators': 200, 'min_samples_split': 2, 'min_samples_leaf': 2, 'max_features': 'auto', 'max_depth': 110, 'bootstrap': True}\n",
      "0.773 (+/-0.003) for {'n_estimators': 1800, 'min_samples_split': 5, 'min_samples_leaf': 2, 'max_features': 'sqrt', 'max_depth': None, 'bootstrap': False}\n",
      "0.762 (+/-0.007) for {'n_estimators': 1600, 'min_samples_split': 5, 'min_samples_leaf': 2, 'max_features': 'sqrt', 'max_depth': None, 'bootstrap': True}\n",
      "0.728 (+/-0.004) for {'n_estimators': 200, 'min_samples_split': 10, 'min_samples_leaf': 2, 'max_features': 'auto', 'max_depth': 30, 'bootstrap': True}\n",
      "0.759 (+/-0.007) for {'n_estimators': 1000, 'min_samples_split': 2, 'min_samples_leaf': 2, 'max_features': 'sqrt', 'max_depth': 90, 'bootstrap': True}\n",
      "0.717 (+/-0.010) for {'n_estimators': 400, 'min_samples_split': 10, 'min_samples_leaf': 4, 'max_features': 'sqrt', 'max_depth': 30, 'bootstrap': True}\n",
      "0.791 (+/-0.007) for {'n_estimators': 400, 'min_samples_split': 2, 'min_samples_leaf': 1, 'max_features': 'sqrt', 'max_depth': None, 'bootstrap': True}\n",
      "0.783 (+/-0.004) for {'n_estimators': 1800, 'min_samples_split': 5, 'min_samples_leaf': 1, 'max_features': 'auto', 'max_depth': 70, 'bootstrap': True}\n",
      "0.738 (+/-0.009) for {'n_estimators': 600, 'min_samples_split': 10, 'min_samples_leaf': 4, 'max_features': 'auto', 'max_depth': 50, 'bootstrap': False}\n",
      "0.789 (+/-0.002) for {'n_estimators': 600, 'min_samples_split': 5, 'min_samples_leaf': 1, 'max_features': 'auto', 'max_depth': 100, 'bootstrap': True}\n",
      "0.794 (+/-0.005) for {'n_estimators': 800, 'min_samples_split': 2, 'min_samples_leaf': 1, 'max_features': 'auto', 'max_depth': 90, 'bootstrap': False}\n",
      "0.742 (+/-0.008) for {'n_estimators': 400, 'min_samples_split': 5, 'min_samples_leaf': 4, 'max_features': 'auto', 'max_depth': 60, 'bootstrap': False}\n",
      "0.778 (+/-0.005) for {'n_estimators': 400, 'min_samples_split': 5, 'min_samples_leaf': 1, 'max_features': 'sqrt', 'max_depth': 60, 'bootstrap': True}\n",
      "0.734 (+/-0.008) for {'n_estimators': 1600, 'min_samples_split': 5, 'min_samples_leaf': 4, 'max_features': 'auto', 'max_depth': 100, 'bootstrap': True}\n",
      "0.779 (+/-0.002) for {'n_estimators': 1600, 'min_samples_split': 10, 'min_samples_leaf': 1, 'max_features': 'auto', 'max_depth': 50, 'bootstrap': False}\n",
      "0.766 (+/-0.004) for {'n_estimators': 1400, 'min_samples_split': 2, 'min_samples_leaf': 1, 'max_features': 'sqrt', 'max_depth': 40, 'bootstrap': True}\n",
      "0.734 (+/-0.008) for {'n_estimators': 600, 'min_samples_split': 2, 'min_samples_leaf': 4, 'max_features': 'sqrt', 'max_depth': 70, 'bootstrap': True}\n",
      "0.785 (+/-0.006) for {'n_estimators': 200, 'min_samples_split': 10, 'min_samples_leaf': 1, 'max_features': 'sqrt', 'max_depth': 70, 'bootstrap': False}\n",
      "0.681 (+/-0.017) for {'n_estimators': 1200, 'min_samples_split': 2, 'min_samples_leaf': 2, 'max_features': 'sqrt', 'max_depth': 10, 'bootstrap': True}\n",
      "0.771 (+/-0.004) for {'n_estimators': 200, 'min_samples_split': 10, 'min_samples_leaf': 2, 'max_features': 'sqrt', 'max_depth': 100, 'bootstrap': False}\n",
      "0.681 (+/-0.016) for {'n_estimators': 600, 'min_samples_split': 5, 'min_samples_leaf': 2, 'max_features': 'auto', 'max_depth': 10, 'bootstrap': True}\n",
      "0.755 (+/-0.012) for {'n_estimators': 200, 'min_samples_split': 5, 'min_samples_leaf': 2, 'max_features': 'auto', 'max_depth': 50, 'bootstrap': False}\n",
      "0.794 (+/-0.007) for {'n_estimators': 200, 'min_samples_split': 2, 'min_samples_leaf': 1, 'max_features': 'auto', 'max_depth': None, 'bootstrap': False}\n",
      "0.750 (+/-0.004) for {'n_estimators': 1200, 'min_samples_split': 2, 'min_samples_leaf': 4, 'max_features': 'auto', 'max_depth': None, 'bootstrap': False}\n",
      "0.734 (+/-0.009) for {'n_estimators': 1800, 'min_samples_split': 5, 'min_samples_leaf': 4, 'max_features': 'auto', 'max_depth': 100, 'bootstrap': True}\n",
      "0.789 (+/-0.001) for {'n_estimators': 1000, 'min_samples_split': 10, 'min_samples_leaf': 1, 'max_features': 'auto', 'max_depth': 110, 'bootstrap': True}\n",
      "0.711 (+/-0.008) for {'n_estimators': 200, 'min_samples_split': 5, 'min_samples_leaf': 2, 'max_features': 'auto', 'max_depth': 20, 'bootstrap': True}\n",
      "0.784 (+/-0.004) for {'n_estimators': 1600, 'min_samples_split': 5, 'min_samples_leaf': 1, 'max_features': 'auto', 'max_depth': 60, 'bootstrap': False}\n",
      "0.758 (+/-0.009) for {'n_estimators': 200, 'min_samples_split': 5, 'min_samples_leaf': 2, 'max_features': 'sqrt', 'max_depth': 80, 'bootstrap': True}\n",
      "0.786 (+/-0.002) for {'n_estimators': 1000, 'min_samples_split': 10, 'min_samples_leaf': 1, 'max_features': 'auto', 'max_depth': 90, 'bootstrap': True}\n",
      "0.735 (+/-0.008) for {'n_estimators': 600, 'min_samples_split': 10, 'min_samples_leaf': 4, 'max_features': 'auto', 'max_depth': None, 'bootstrap': True}\n",
      "0.733 (+/-0.008) for {'n_estimators': 1400, 'min_samples_split': 5, 'min_samples_leaf': 4, 'max_features': 'sqrt', 'max_depth': 70, 'bootstrap': True}\n",
      "0.747 (+/-0.009) for {'n_estimators': 1800, 'min_samples_split': 2, 'min_samples_leaf': 4, 'max_features': 'auto', 'max_depth': 90, 'bootstrap': False}\n",
      "\n",
      "Detailed classification report:\n",
      "\n",
      "The model is trained on the full development set.\n",
      "The scores are computed on the full evaluation set.\n",
      "\n"
     ]
    },
    {
     "name": "stdout",
     "output_type": "stream",
     "text": [
      "[[1187  191]\n",
      " [ 327  803]]\n",
      "              precision    recall  f1-score   support\n",
      "\n",
      "           0       0.78      0.86      0.82      1378\n",
      "           1       0.81      0.71      0.76      1130\n",
      "\n",
      "    accuracy                           0.79      2508\n",
      "   macro avg       0.80      0.79      0.79      2508\n",
      "weighted avg       0.79      0.79      0.79      2508\n",
      "\n",
      "\n"
     ]
    }
   ],
   "source": [
    "rfc = modelTuning(RandomForestClassifier(random_state = 0),tuned_parameters,100,False)"
   ]
  },
  {
   "cell_type": "markdown",
   "metadata": {},
   "source": [
    "## 3.Support Vector Machine"
   ]
  },
  {
   "cell_type": "code",
   "execution_count": 95,
   "metadata": {},
   "outputs": [
    {
     "data": {
      "text/plain": [
       "{'C': 1.0,\n",
       " 'cache_size': 200,\n",
       " 'class_weight': None,\n",
       " 'coef0': 0.0,\n",
       " 'decision_function_shape': 'ovr',\n",
       " 'degree': 3,\n",
       " 'gamma': 'auto_deprecated',\n",
       " 'kernel': 'linear',\n",
       " 'max_iter': -1,\n",
       " 'probability': False,\n",
       " 'random_state': None,\n",
       " 'shrinking': True,\n",
       " 'tol': 0.001,\n",
       " 'verbose': False}"
      ]
     },
     "execution_count": 95,
     "metadata": {},
     "output_type": "execute_result"
    }
   ],
   "source": [
    "#Get Parameters\n",
    "svm.get_params()"
   ]
  },
  {
   "cell_type": "code",
   "execution_count": 96,
   "metadata": {},
   "outputs": [],
   "source": [
    "tuned_parameters = {'C': [0.1,1, 10, 100], 'gamma': [1,0.1,0.01,0.001],'kernel': ['linear','rbf', 'poly', 'sigmoid']}"
   ]
  },
  {
   "cell_type": "code",
   "execution_count": 97,
   "metadata": {},
   "outputs": [
    {
     "name": "stdout",
     "output_type": "stream",
     "text": [
      "# Tuning hyper-parameters for accuracy\n",
      "\n",
      "Fitting 3 folds for each of 64 candidates, totalling 192 fits\n"
     ]
    },
    {
     "name": "stderr",
     "output_type": "stream",
     "text": [
      "[Parallel(n_jobs=-1)]: Using backend LokyBackend with 8 concurrent workers.\n",
      "[Parallel(n_jobs=-1)]: Done  34 tasks      | elapsed:  1.1min\n",
      "[Parallel(n_jobs=-1)]: Done 192 out of 192 | elapsed:  5.3min finished\n"
     ]
    },
    {
     "name": "stdout",
     "output_type": "stream",
     "text": [
      "Best parameters set found on development set:\n",
      "\n",
      "{'kernel': 'rbf', 'gamma': 0.01, 'C': 10}\n",
      "\n",
      "Grid scores on development set:\n",
      "\n",
      "0.787 (+/-0.006) for {'kernel': 'linear', 'gamma': 1, 'C': 0.1}\n",
      "0.544 (+/-0.001) for {'kernel': 'rbf', 'gamma': 1, 'C': 0.1}\n",
      "0.789 (+/-0.011) for {'kernel': 'poly', 'gamma': 1, 'C': 0.1}\n",
      "0.526 (+/-0.012) for {'kernel': 'sigmoid', 'gamma': 1, 'C': 0.1}\n",
      "0.787 (+/-0.006) for {'kernel': 'linear', 'gamma': 0.1, 'C': 0.1}\n",
      "0.688 (+/-0.023) for {'kernel': 'rbf', 'gamma': 0.1, 'C': 0.1}\n",
      "0.766 (+/-0.004) for {'kernel': 'poly', 'gamma': 0.1, 'C': 0.1}\n",
      "0.612 (+/-0.018) for {'kernel': 'sigmoid', 'gamma': 0.1, 'C': 0.1}\n",
      "0.787 (+/-0.006) for {'kernel': 'linear', 'gamma': 0.01, 'C': 0.1}\n",
      "0.661 (+/-0.009) for {'kernel': 'rbf', 'gamma': 0.01, 'C': 0.1}\n",
      "0.543 (+/-0.000) for {'kernel': 'poly', 'gamma': 0.01, 'C': 0.1}\n",
      "0.643 (+/-0.007) for {'kernel': 'sigmoid', 'gamma': 0.01, 'C': 0.1}\n",
      "0.787 (+/-0.006) for {'kernel': 'linear', 'gamma': 0.001, 'C': 0.1}\n",
      "0.543 (+/-0.000) for {'kernel': 'rbf', 'gamma': 0.001, 'C': 0.1}\n",
      "0.543 (+/-0.000) for {'kernel': 'poly', 'gamma': 0.001, 'C': 0.1}\n",
      "0.543 (+/-0.000) for {'kernel': 'sigmoid', 'gamma': 0.001, 'C': 0.1}\n",
      "0.784 (+/-0.013) for {'kernel': 'linear', 'gamma': 1, 'C': 1}\n",
      "0.650 (+/-0.010) for {'kernel': 'rbf', 'gamma': 1, 'C': 1}\n",
      "0.789 (+/-0.011) for {'kernel': 'poly', 'gamma': 1, 'C': 1}\n",
      "0.527 (+/-0.018) for {'kernel': 'sigmoid', 'gamma': 1, 'C': 1}\n",
      "0.784 (+/-0.013) for {'kernel': 'linear', 'gamma': 0.1, 'C': 1}\n",
      "0.797 (+/-0.002) for {'kernel': 'rbf', 'gamma': 0.1, 'C': 1}\n",
      "0.788 (+/-0.014) for {'kernel': 'poly', 'gamma': 0.1, 'C': 1}\n",
      "0.583 (+/-0.025) for {'kernel': 'sigmoid', 'gamma': 0.1, 'C': 1}\n",
      "0.784 (+/-0.013) for {'kernel': 'linear', 'gamma': 0.01, 'C': 1}\n",
      "0.758 (+/-0.007) for {'kernel': 'rbf', 'gamma': 0.01, 'C': 1}\n",
      "0.543 (+/-0.001) for {'kernel': 'poly', 'gamma': 0.01, 'C': 1}\n",
      "0.725 (+/-0.005) for {'kernel': 'sigmoid', 'gamma': 0.01, 'C': 1}\n",
      "0.784 (+/-0.013) for {'kernel': 'linear', 'gamma': 0.001, 'C': 1}\n",
      "0.668 (+/-0.014) for {'kernel': 'rbf', 'gamma': 0.001, 'C': 1}\n",
      "0.543 (+/-0.000) for {'kernel': 'poly', 'gamma': 0.001, 'C': 1}\n",
      "0.644 (+/-0.007) for {'kernel': 'sigmoid', 'gamma': 0.001, 'C': 1}\n",
      "0.778 (+/-0.015) for {'kernel': 'linear', 'gamma': 1, 'C': 10}\n",
      "0.650 (+/-0.010) for {'kernel': 'rbf', 'gamma': 1, 'C': 10}\n",
      "0.789 (+/-0.011) for {'kernel': 'poly', 'gamma': 1, 'C': 10}\n",
      "0.528 (+/-0.017) for {'kernel': 'sigmoid', 'gamma': 1, 'C': 10}\n",
      "0.778 (+/-0.015) for {'kernel': 'linear', 'gamma': 0.1, 'C': 10}\n",
      "0.797 (+/-0.003) for {'kernel': 'rbf', 'gamma': 0.1, 'C': 10}\n",
      "0.789 (+/-0.011) for {'kernel': 'poly', 'gamma': 0.1, 'C': 10}\n",
      "0.586 (+/-0.015) for {'kernel': 'sigmoid', 'gamma': 0.1, 'C': 10}\n",
      "0.778 (+/-0.015) for {'kernel': 'linear', 'gamma': 0.01, 'C': 10}\n",
      "0.799 (+/-0.008) for {'kernel': 'rbf', 'gamma': 0.01, 'C': 10}\n",
      "0.640 (+/-0.002) for {'kernel': 'poly', 'gamma': 0.01, 'C': 10}\n",
      "0.784 (+/-0.008) for {'kernel': 'sigmoid', 'gamma': 0.01, 'C': 10}\n",
      "0.778 (+/-0.015) for {'kernel': 'linear', 'gamma': 0.001, 'C': 10}\n",
      "0.757 (+/-0.007) for {'kernel': 'rbf', 'gamma': 0.001, 'C': 10}\n",
      "0.543 (+/-0.000) for {'kernel': 'poly', 'gamma': 0.001, 'C': 10}\n",
      "0.725 (+/-0.005) for {'kernel': 'sigmoid', 'gamma': 0.001, 'C': 10}\n",
      "0.778 (+/-0.015) for {'kernel': 'linear', 'gamma': 1, 'C': 100}\n",
      "0.650 (+/-0.010) for {'kernel': 'rbf', 'gamma': 1, 'C': 100}\n",
      "0.789 (+/-0.011) for {'kernel': 'poly', 'gamma': 1, 'C': 100}\n",
      "0.528 (+/-0.017) for {'kernel': 'sigmoid', 'gamma': 1, 'C': 100}\n",
      "0.778 (+/-0.015) for {'kernel': 'linear', 'gamma': 0.1, 'C': 100}\n",
      "0.797 (+/-0.003) for {'kernel': 'rbf', 'gamma': 0.1, 'C': 100}\n",
      "0.789 (+/-0.011) for {'kernel': 'poly', 'gamma': 0.1, 'C': 100}\n",
      "0.586 (+/-0.016) for {'kernel': 'sigmoid', 'gamma': 0.1, 'C': 100}\n",
      "0.778 (+/-0.015) for {'kernel': 'linear', 'gamma': 0.01, 'C': 100}\n",
      "0.791 (+/-0.013) for {'kernel': 'rbf', 'gamma': 0.01, 'C': 100}\n",
      "0.766 (+/-0.004) for {'kernel': 'poly', 'gamma': 0.01, 'C': 100}\n",
      "0.762 (+/-0.016) for {'kernel': 'sigmoid', 'gamma': 0.01, 'C': 100}\n",
      "0.778 (+/-0.015) for {'kernel': 'linear', 'gamma': 0.001, 'C': 100}\n",
      "0.791 (+/-0.013) for {'kernel': 'rbf', 'gamma': 0.001, 'C': 100}\n",
      "0.543 (+/-0.000) for {'kernel': 'poly', 'gamma': 0.001, 'C': 100}\n",
      "0.786 (+/-0.007) for {'kernel': 'sigmoid', 'gamma': 0.001, 'C': 100}\n",
      "\n",
      "Detailed classification report:\n",
      "\n",
      "The model is trained on the full development set.\n",
      "The scores are computed on the full evaluation set.\n",
      "\n",
      "[[1125  253]\n",
      " [ 262  868]]\n",
      "              precision    recall  f1-score   support\n",
      "\n",
      "           0       0.81      0.82      0.81      1378\n",
      "           1       0.77      0.77      0.77      1130\n",
      "\n",
      "    accuracy                           0.79      2508\n",
      "   macro avg       0.79      0.79      0.79      2508\n",
      "weighted avg       0.79      0.79      0.79      2508\n",
      "\n",
      "\n"
     ]
    }
   ],
   "source": [
    "svm = modelTuning(SVC(),tuned_parameters,64,False)"
   ]
  },
  {
   "cell_type": "markdown",
   "metadata": {},
   "source": [
    "## 4.KNN"
   ]
  },
  {
   "cell_type": "code",
   "execution_count": 98,
   "metadata": {},
   "outputs": [
    {
     "data": {
      "text/plain": [
       "{'algorithm': 'auto',\n",
       " 'leaf_size': 30,\n",
       " 'metric': 'euclidean',\n",
       " 'metric_params': None,\n",
       " 'n_jobs': None,\n",
       " 'n_neighbors': 5,\n",
       " 'p': 2,\n",
       " 'weights': 'uniform'}"
      ]
     },
     "execution_count": 98,
     "metadata": {},
     "output_type": "execute_result"
    }
   ],
   "source": [
    "#Get Parameters\n",
    "knn.get_params()"
   ]
  },
  {
   "cell_type": "code",
   "execution_count": 99,
   "metadata": {},
   "outputs": [],
   "source": [
    "tuned_parameters = {'n_neighbors' : list(range(1,31)),'weights' : ['uniform','distance'],'metric': ['minkowski','euclidean','manhattan']}"
   ]
  },
  {
   "cell_type": "code",
   "execution_count": 100,
   "metadata": {},
   "outputs": [
    {
     "name": "stdout",
     "output_type": "stream",
     "text": [
      "# Tuning hyper-parameters for accuracy\n",
      "\n",
      "Fitting 3 folds for each of 100 candidates, totalling 300 fits\n"
     ]
    },
    {
     "name": "stderr",
     "output_type": "stream",
     "text": [
      "[Parallel(n_jobs=-1)]: Using backend LokyBackend with 8 concurrent workers.\n",
      "[Parallel(n_jobs=-1)]: Done  34 tasks      | elapsed:  4.7min\n",
      "[Parallel(n_jobs=-1)]: Done 184 tasks      | elapsed: 20.7min\n",
      "[Parallel(n_jobs=-1)]: Done 300 out of 300 | elapsed: 33.7min finished\n"
     ]
    },
    {
     "name": "stdout",
     "output_type": "stream",
     "text": [
      "Best parameters set found on development set:\n",
      "\n",
      "{'weights': 'distance', 'n_neighbors': 24, 'metric': 'manhattan'}\n",
      "\n",
      "Grid scores on development set:\n",
      "\n",
      "0.737 (+/-0.013) for {'weights': 'uniform', 'n_neighbors': 24, 'metric': 'euclidean'}\n",
      "0.767 (+/-0.009) for {'weights': 'distance', 'n_neighbors': 4, 'metric': 'minkowski'}\n",
      "0.764 (+/-0.004) for {'weights': 'distance', 'n_neighbors': 3, 'metric': 'manhattan'}\n",
      "0.743 (+/-0.011) for {'weights': 'uniform', 'n_neighbors': 21, 'metric': 'manhattan'}\n",
      "0.753 (+/-0.005) for {'weights': 'uniform', 'n_neighbors': 9, 'metric': 'manhattan'}\n",
      "0.770 (+/-0.004) for {'weights': 'distance', 'n_neighbors': 6, 'metric': 'euclidean'}\n",
      "0.738 (+/-0.007) for {'weights': 'uniform', 'n_neighbors': 29, 'metric': 'minkowski'}\n",
      "0.773 (+/-0.006) for {'weights': 'distance', 'n_neighbors': 16, 'metric': 'manhattan'}\n",
      "0.738 (+/-0.010) for {'weights': 'uniform', 'n_neighbors': 22, 'metric': 'manhattan'}\n",
      "0.739 (+/-0.006) for {'weights': 'uniform', 'n_neighbors': 25, 'metric': 'euclidean'}\n",
      "0.772 (+/-0.005) for {'weights': 'distance', 'n_neighbors': 17, 'metric': 'minkowski'}\n",
      "0.771 (+/-0.003) for {'weights': 'distance', 'n_neighbors': 17, 'metric': 'manhattan'}\n",
      "0.741 (+/-0.007) for {'weights': 'uniform', 'n_neighbors': 20, 'metric': 'manhattan'}\n",
      "0.764 (+/-0.008) for {'weights': 'distance', 'n_neighbors': 3, 'metric': 'minkowski'}\n",
      "0.743 (+/-0.007) for {'weights': 'uniform', 'n_neighbors': 10, 'metric': 'minkowski'}\n",
      "0.749 (+/-0.014) for {'weights': 'uniform', 'n_neighbors': 17, 'metric': 'euclidean'}\n",
      "0.743 (+/-0.012) for {'weights': 'uniform', 'n_neighbors': 23, 'metric': 'manhattan'}\n",
      "0.775 (+/-0.016) for {'weights': 'distance', 'n_neighbors': 12, 'metric': 'manhattan'}\n",
      "0.772 (+/-0.007) for {'weights': 'distance', 'n_neighbors': 19, 'metric': 'minkowski'}\n",
      "0.772 (+/-0.004) for {'weights': 'distance', 'n_neighbors': 21, 'metric': 'euclidean'}\n",
      "0.749 (+/-0.014) for {'weights': 'uniform', 'n_neighbors': 13, 'metric': 'manhattan'}\n",
      "0.752 (+/-0.006) for {'weights': 'uniform', 'n_neighbors': 1, 'metric': 'euclidean'}\n",
      "0.754 (+/-0.012) for {'weights': 'distance', 'n_neighbors': 2, 'metric': 'euclidean'}\n",
      "0.750 (+/-0.013) for {'weights': 'uniform', 'n_neighbors': 3, 'metric': 'minkowski'}\n",
      "0.747 (+/-0.014) for {'weights': 'uniform', 'n_neighbors': 2, 'metric': 'manhattan'}\n",
      "0.774 (+/-0.005) for {'weights': 'distance', 'n_neighbors': 23, 'metric': 'manhattan'}\n",
      "0.768 (+/-0.010) for {'weights': 'distance', 'n_neighbors': 27, 'metric': 'euclidean'}\n",
      "0.741 (+/-0.005) for {'weights': 'uniform', 'n_neighbors': 24, 'metric': 'manhattan'}\n",
      "0.741 (+/-0.006) for {'weights': 'uniform', 'n_neighbors': 25, 'metric': 'manhattan'}\n",
      "0.752 (+/-0.006) for {'weights': 'distance', 'n_neighbors': 1, 'metric': 'euclidean'}\n",
      "0.742 (+/-0.006) for {'weights': 'uniform', 'n_neighbors': 23, 'metric': 'minkowski'}\n",
      "0.748 (+/-0.015) for {'weights': 'uniform', 'n_neighbors': 14, 'metric': 'minkowski'}\n",
      "0.774 (+/-0.002) for {'weights': 'distance', 'n_neighbors': 24, 'metric': 'euclidean'}\n",
      "0.774 (+/-0.006) for {'weights': 'distance', 'n_neighbors': 6, 'metric': 'manhattan'}\n",
      "0.747 (+/-0.012) for {'weights': 'uniform', 'n_neighbors': 4, 'metric': 'euclidean'}\n",
      "0.750 (+/-0.003) for {'weights': 'uniform', 'n_neighbors': 5, 'metric': 'minkowski'}\n",
      "0.773 (+/-0.007) for {'weights': 'distance', 'n_neighbors': 28, 'metric': 'minkowski'}\n",
      "0.774 (+/-0.005) for {'weights': 'distance', 'n_neighbors': 12, 'metric': 'euclidean'}\n",
      "0.770 (+/-0.001) for {'weights': 'distance', 'n_neighbors': 23, 'metric': 'minkowski'}\n",
      "0.773 (+/-0.004) for {'weights': 'distance', 'n_neighbors': 22, 'metric': 'manhattan'}\n",
      "0.755 (+/-0.003) for {'weights': 'distance', 'n_neighbors': 2, 'metric': 'manhattan'}\n",
      "0.749 (+/-0.014) for {'weights': 'uniform', 'n_neighbors': 13, 'metric': 'minkowski'}\n",
      "0.748 (+/-0.010) for {'weights': 'uniform', 'n_neighbors': 16, 'metric': 'minkowski'}\n",
      "0.775 (+/-0.007) for {'weights': 'distance', 'n_neighbors': 18, 'metric': 'euclidean'}\n",
      "0.736 (+/-0.011) for {'weights': 'uniform', 'n_neighbors': 28, 'metric': 'minkowski'}\n",
      "0.746 (+/-0.009) for {'weights': 'uniform', 'n_neighbors': 11, 'metric': 'euclidean'}\n",
      "0.773 (+/-0.003) for {'weights': 'distance', 'n_neighbors': 10, 'metric': 'minkowski'}\n",
      "0.772 (+/-0.006) for {'weights': 'distance', 'n_neighbors': 9, 'metric': 'manhattan'}\n",
      "0.742 (+/-0.006) for {'weights': 'uniform', 'n_neighbors': 23, 'metric': 'euclidean'}\n",
      "0.747 (+/-0.011) for {'weights': 'uniform', 'n_neighbors': 14, 'metric': 'manhattan'}\n",
      "0.747 (+/-0.001) for {'weights': 'uniform', 'n_neighbors': 9, 'metric': 'minkowski'}\n",
      "0.774 (+/-0.005) for {'weights': 'distance', 'n_neighbors': 26, 'metric': 'minkowski'}\n",
      "0.740 (+/-0.003) for {'weights': 'uniform', 'n_neighbors': 26, 'metric': 'manhattan'}\n",
      "0.752 (+/-0.010) for {'weights': 'distance', 'n_neighbors': 1, 'metric': 'manhattan'}\n",
      "0.744 (+/-0.004) for {'weights': 'uniform', 'n_neighbors': 21, 'metric': 'minkowski'}\n",
      "0.750 (+/-0.010) for {'weights': 'uniform', 'n_neighbors': 8, 'metric': 'euclidean'}\n",
      "0.751 (+/-0.015) for {'weights': 'uniform', 'n_neighbors': 12, 'metric': 'minkowski'}\n",
      "0.738 (+/-0.007) for {'weights': 'uniform', 'n_neighbors': 26, 'metric': 'euclidean'}\n",
      "0.774 (+/-0.005) for {'weights': 'distance', 'n_neighbors': 26, 'metric': 'euclidean'}\n",
      "0.771 (+/-0.005) for {'weights': 'distance', 'n_neighbors': 5, 'metric': 'manhattan'}\n",
      "0.747 (+/-0.011) for {'weights': 'uniform', 'n_neighbors': 19, 'metric': 'euclidean'}\n",
      "0.748 (+/-0.010) for {'weights': 'uniform', 'n_neighbors': 16, 'metric': 'euclidean'}\n",
      "0.738 (+/-0.007) for {'weights': 'uniform', 'n_neighbors': 29, 'metric': 'euclidean'}\n",
      "0.774 (+/-0.006) for {'weights': 'distance', 'n_neighbors': 14, 'metric': 'minkowski'}\n",
      "0.745 (+/-0.010) for {'weights': 'uniform', 'n_neighbors': 18, 'metric': 'euclidean'}\n",
      "0.771 (+/-0.008) for {'weights': 'distance', 'n_neighbors': 19, 'metric': 'manhattan'}\n",
      "0.752 (+/-0.019) for {'weights': 'uniform', 'n_neighbors': 6, 'metric': 'manhattan'}\n",
      "0.738 (+/-0.005) for {'weights': 'uniform', 'n_neighbors': 29, 'metric': 'manhattan'}\n",
      "0.770 (+/-0.004) for {'weights': 'distance', 'n_neighbors': 15, 'metric': 'euclidean'}\n",
      "0.746 (+/-0.018) for {'weights': 'uniform', 'n_neighbors': 2, 'metric': 'euclidean'}\n",
      "0.746 (+/-0.018) for {'weights': 'uniform', 'n_neighbors': 2, 'metric': 'minkowski'}\n",
      "0.772 (+/-0.009) for {'weights': 'distance', 'n_neighbors': 30, 'metric': 'minkowski'}\n",
      "0.772 (+/-0.007) for {'weights': 'distance', 'n_neighbors': 19, 'metric': 'euclidean'}\n",
      "0.745 (+/-0.009) for {'weights': 'uniform', 'n_neighbors': 20, 'metric': 'euclidean'}\n",
      "0.774 (+/-0.003) for {'weights': 'distance', 'n_neighbors': 22, 'metric': 'minkowski'}\n",
      "0.748 (+/-0.014) for {'weights': 'uniform', 'n_neighbors': 6, 'metric': 'minkowski'}\n",
      "0.748 (+/-0.015) for {'weights': 'uniform', 'n_neighbors': 14, 'metric': 'euclidean'}\n",
      "0.768 (+/-0.004) for {'weights': 'distance', 'n_neighbors': 7, 'metric': 'euclidean'}\n",
      "0.772 (+/-0.002) for {'weights': 'distance', 'n_neighbors': 27, 'metric': 'manhattan'}\n",
      "0.773 (+/-0.007) for {'weights': 'distance', 'n_neighbors': 21, 'metric': 'manhattan'}\n",
      "0.737 (+/-0.009) for {'weights': 'uniform', 'n_neighbors': 27, 'metric': 'euclidean'}\n",
      "0.747 (+/-0.007) for {'weights': 'uniform', 'n_neighbors': 10, 'metric': 'manhattan'}\n",
      "0.772 (+/-0.005) for {'weights': 'distance', 'n_neighbors': 17, 'metric': 'euclidean'}\n",
      "0.747 (+/-0.003) for {'weights': 'uniform', 'n_neighbors': 16, 'metric': 'manhattan'}\n",
      "0.772 (+/-0.001) for {'weights': 'distance', 'n_neighbors': 30, 'metric': 'manhattan'}\n",
      "0.738 (+/-0.007) for {'weights': 'uniform', 'n_neighbors': 26, 'metric': 'minkowski'}\n",
      "0.773 (+/-0.003) for {'weights': 'distance', 'n_neighbors': 29, 'metric': 'manhattan'}\n",
      "0.734 (+/-0.008) for {'weights': 'uniform', 'n_neighbors': 30, 'metric': 'euclidean'}\n",
      "0.750 (+/-0.013) for {'weights': 'uniform', 'n_neighbors': 3, 'metric': 'euclidean'}\n",
      "0.750 (+/-0.004) for {'weights': 'uniform', 'n_neighbors': 3, 'metric': 'manhattan'}\n",
      "0.753 (+/-0.007) for {'weights': 'uniform', 'n_neighbors': 4, 'metric': 'manhattan'}\n",
      "0.767 (+/-0.003) for {'weights': 'distance', 'n_neighbors': 5, 'metric': 'euclidean'}\n",
      "0.769 (+/-0.002) for {'weights': 'distance', 'n_neighbors': 25, 'metric': 'minkowski'}\n",
      "0.739 (+/-0.006) for {'weights': 'uniform', 'n_neighbors': 25, 'metric': 'minkowski'}\n",
      "0.770 (+/-0.005) for {'weights': 'distance', 'n_neighbors': 13, 'metric': 'euclidean'}\n",
      "0.768 (+/-0.004) for {'weights': 'distance', 'n_neighbors': 7, 'metric': 'minkowski'}\n",
      "0.775 (+/-0.004) for {'weights': 'distance', 'n_neighbors': 8, 'metric': 'manhattan'}\n",
      "0.774 (+/-0.005) for {'weights': 'distance', 'n_neighbors': 12, 'metric': 'minkowski'}\n",
      "0.775 (+/-0.005) for {'weights': 'distance', 'n_neighbors': 24, 'metric': 'manhattan'}\n",
      "0.746 (+/-0.009) for {'weights': 'uniform', 'n_neighbors': 11, 'metric': 'minkowski'}\n",
      "\n",
      "Detailed classification report:\n",
      "\n",
      "The model is trained on the full development set.\n",
      "The scores are computed on the full evaluation set.\n",
      "\n"
     ]
    },
    {
     "name": "stdout",
     "output_type": "stream",
     "text": [
      "[[1121  257]\n",
      " [ 297  833]]\n",
      "              precision    recall  f1-score   support\n",
      "\n",
      "           0       0.79      0.81      0.80      1378\n",
      "           1       0.76      0.74      0.75      1130\n",
      "\n",
      "    accuracy                           0.78      2508\n",
      "   macro avg       0.78      0.78      0.78      2508\n",
      "weighted avg       0.78      0.78      0.78      2508\n",
      "\n",
      "\n"
     ]
    }
   ],
   "source": [
    "knn = modelTuning(KNeighborsClassifier(),tuned_parameters,100,False)"
   ]
  },
  {
   "cell_type": "markdown",
   "metadata": {},
   "source": [
    "## 5. Neural Network"
   ]
  },
  {
   "cell_type": "code",
   "execution_count": 101,
   "metadata": {},
   "outputs": [
    {
     "data": {
      "text/plain": [
       "{'activation': 'relu',\n",
       " 'alpha': 1e-05,\n",
       " 'batch_size': 'auto',\n",
       " 'beta_1': 0.9,\n",
       " 'beta_2': 0.999,\n",
       " 'early_stopping': False,\n",
       " 'epsilon': 1e-08,\n",
       " 'hidden_layer_sizes': 10,\n",
       " 'learning_rate': 'constant',\n",
       " 'learning_rate_init': 0.001,\n",
       " 'max_iter': 200,\n",
       " 'momentum': 0.9,\n",
       " 'n_iter_no_change': 10,\n",
       " 'nesterovs_momentum': True,\n",
       " 'power_t': 0.5,\n",
       " 'random_state': 0,\n",
       " 'shuffle': True,\n",
       " 'solver': 'adam',\n",
       " 'tol': 0.0001,\n",
       " 'validation_fraction': 0.1,\n",
       " 'verbose': False,\n",
       " 'warm_start': False}"
      ]
     },
     "execution_count": 101,
     "metadata": {},
     "output_type": "execute_result"
    }
   ],
   "source": [
    "#Get Parameters\n",
    "nn.get_params()"
   ]
  },
  {
   "cell_type": "code",
   "execution_count": 102,
   "metadata": {},
   "outputs": [],
   "source": [
    "tuned_parameters = {'hidden_layer_sizes': [(10,), (10,2), (10,4,2)],\n",
    "                    'activation': ['identity', 'logistic', 'tanh', 'relu'],\n",
    "                    'solver': ['sgd', 'adam'],\n",
    "                    'alpha': [1e-4, 1e-3,1e-2,1e-1,1],\n",
    "                    'learning_rate': ['constant', 'invscaling', 'adaptive']}"
   ]
  },
  {
   "cell_type": "code",
   "execution_count": 103,
   "metadata": {},
   "outputs": [
    {
     "name": "stdout",
     "output_type": "stream",
     "text": [
      "# Tuning hyper-parameters for accuracy\n",
      "\n",
      "Fitting 3 folds for each of 100 candidates, totalling 300 fits\n"
     ]
    },
    {
     "name": "stderr",
     "output_type": "stream",
     "text": [
      "[Parallel(n_jobs=-1)]: Using backend LokyBackend with 8 concurrent workers.\n",
      "[Parallel(n_jobs=-1)]: Done  34 tasks      | elapsed: 11.0min\n",
      "[Parallel(n_jobs=-1)]: Done 184 tasks      | elapsed: 61.4min\n",
      "[Parallel(n_jobs=-1)]: Done 300 out of 300 | elapsed: 101.6min finished\n"
     ]
    },
    {
     "name": "stdout",
     "output_type": "stream",
     "text": [
      "Best parameters set found on development set:\n",
      "\n",
      "{'solver': 'adam', 'learning_rate': 'constant', 'hidden_layer_sizes': (10,), 'alpha': 0.1, 'activation': 'logistic'}\n",
      "\n",
      "Grid scores on development set:\n",
      "\n",
      "0.788 (+/-0.004) for {'solver': 'sgd', 'learning_rate': 'constant', 'hidden_layer_sizes': (10, 2), 'alpha': 0.0001, 'activation': 'identity'}\n",
      "0.786 (+/-0.008) for {'solver': 'adam', 'learning_rate': 'constant', 'hidden_layer_sizes': (10, 2), 'alpha': 0.01, 'activation': 'tanh'}\n",
      "0.543 (+/-0.000) for {'solver': 'sgd', 'learning_rate': 'adaptive', 'hidden_layer_sizes': (10, 4, 2), 'alpha': 0.0001, 'activation': 'logistic'}\n",
      "0.763 (+/-0.004) for {'solver': 'sgd', 'learning_rate': 'constant', 'hidden_layer_sizes': (10,), 'alpha': 0.01, 'activation': 'tanh'}\n",
      "0.657 (+/-0.012) for {'solver': 'sgd', 'learning_rate': 'constant', 'hidden_layer_sizes': (10,), 'alpha': 0.0001, 'activation': 'logistic'}\n",
      "0.514 (+/-0.080) for {'solver': 'sgd', 'learning_rate': 'invscaling', 'hidden_layer_sizes': (10, 2), 'alpha': 0.001, 'activation': 'logistic'}\n",
      "0.789 (+/-0.010) for {'solver': 'sgd', 'learning_rate': 'adaptive', 'hidden_layer_sizes': (10, 4, 2), 'alpha': 0.01, 'activation': 'tanh'}\n",
      "0.792 (+/-0.008) for {'solver': 'sgd', 'learning_rate': 'constant', 'hidden_layer_sizes': (10, 2), 'alpha': 0.1, 'activation': 'identity'}\n",
      "0.788 (+/-0.010) for {'solver': 'adam', 'learning_rate': 'constant', 'hidden_layer_sizes': (10,), 'alpha': 0.01, 'activation': 'identity'}\n",
      "0.543 (+/-0.000) for {'solver': 'sgd', 'learning_rate': 'constant', 'hidden_layer_sizes': (10, 4, 2), 'alpha': 0.001, 'activation': 'logistic'}\n",
      "0.529 (+/-0.108) for {'solver': 'sgd', 'learning_rate': 'invscaling', 'hidden_layer_sizes': (10, 2), 'alpha': 0.001, 'activation': 'identity'}\n",
      "0.704 (+/-0.229) for {'solver': 'adam', 'learning_rate': 'constant', 'hidden_layer_sizes': (10, 4, 2), 'alpha': 1, 'activation': 'relu'}\n",
      "0.514 (+/-0.080) for {'solver': 'sgd', 'learning_rate': 'invscaling', 'hidden_layer_sizes': (10, 2), 'alpha': 1, 'activation': 'logistic'}\n",
      "0.462 (+/-0.012) for {'solver': 'sgd', 'learning_rate': 'invscaling', 'hidden_layer_sizes': (10, 2), 'alpha': 1, 'activation': 'relu'}\n",
      "0.650 (+/-0.015) for {'solver': 'sgd', 'learning_rate': 'constant', 'hidden_layer_sizes': (10,), 'alpha': 0.1, 'activation': 'logistic'}\n",
      "0.788 (+/-0.005) for {'solver': 'sgd', 'learning_rate': 'adaptive', 'hidden_layer_sizes': (10, 2), 'alpha': 0.001, 'activation': 'tanh'}\n",
      "0.543 (+/-0.000) for {'solver': 'sgd', 'learning_rate': 'adaptive', 'hidden_layer_sizes': (10, 2), 'alpha': 0.01, 'activation': 'logistic'}\n",
      "0.457 (+/-0.000) for {'solver': 'sgd', 'learning_rate': 'invscaling', 'hidden_layer_sizes': (10, 4, 2), 'alpha': 0.1, 'activation': 'logistic'}\n",
      "0.785 (+/-0.012) for {'solver': 'adam', 'learning_rate': 'adaptive', 'hidden_layer_sizes': (10, 2), 'alpha': 0.1, 'activation': 'identity'}\n",
      "0.771 (+/-0.029) for {'solver': 'sgd', 'learning_rate': 'adaptive', 'hidden_layer_sizes': (10, 2), 'alpha': 0.001, 'activation': 'relu'}\n",
      "0.514 (+/-0.080) for {'solver': 'sgd', 'learning_rate': 'invscaling', 'hidden_layer_sizes': (10, 2), 'alpha': 0.001, 'activation': 'tanh'}\n",
      "0.785 (+/-0.012) for {'solver': 'adam', 'learning_rate': 'constant', 'hidden_layer_sizes': (10, 4, 2), 'alpha': 0.1, 'activation': 'tanh'}\n",
      "0.786 (+/-0.018) for {'solver': 'adam', 'learning_rate': 'invscaling', 'hidden_layer_sizes': (10, 2), 'alpha': 0.01, 'activation': 'identity'}\n",
      "0.486 (+/-0.080) for {'solver': 'sgd', 'learning_rate': 'invscaling', 'hidden_layer_sizes': (10, 4, 2), 'alpha': 0.001, 'activation': 'logistic'}\n",
      "0.533 (+/-0.037) for {'solver': 'sgd', 'learning_rate': 'invscaling', 'hidden_layer_sizes': (10,), 'alpha': 0.1, 'activation': 'tanh'}\n",
      "0.787 (+/-0.023) for {'solver': 'adam', 'learning_rate': 'constant', 'hidden_layer_sizes': (10,), 'alpha': 0.0001, 'activation': 'relu'}\n",
      "0.756 (+/-0.003) for {'solver': 'sgd', 'learning_rate': 'adaptive', 'hidden_layer_sizes': (10,), 'alpha': 1, 'activation': 'identity'}\n",
      "0.781 (+/-0.010) for {'solver': 'sgd', 'learning_rate': 'constant', 'hidden_layer_sizes': (10, 2), 'alpha': 1, 'activation': 'identity'}\n",
      "0.783 (+/-0.024) for {'solver': 'adam', 'learning_rate': 'invscaling', 'hidden_layer_sizes': (10, 4, 2), 'alpha': 0.0001, 'activation': 'identity'}\n",
      "0.784 (+/-0.022) for {'solver': 'adam', 'learning_rate': 'adaptive', 'hidden_layer_sizes': (10, 2), 'alpha': 0.0001, 'activation': 'logistic'}\n",
      "0.548 (+/-0.014) for {'solver': 'sgd', 'learning_rate': 'invscaling', 'hidden_layer_sizes': (10,), 'alpha': 1, 'activation': 'tanh'}\n",
      "0.777 (+/-0.012) for {'solver': 'adam', 'learning_rate': 'adaptive', 'hidden_layer_sizes': (10, 4, 2), 'alpha': 0.0001, 'activation': 'relu'}\n",
      "0.790 (+/-0.009) for {'solver': 'sgd', 'learning_rate': 'adaptive', 'hidden_layer_sizes': (10, 4, 2), 'alpha': 0.01, 'activation': 'identity'}\n",
      "0.789 (+/-0.006) for {'solver': 'adam', 'learning_rate': 'constant', 'hidden_layer_sizes': (10,), 'alpha': 0.1, 'activation': 'identity'}\n",
      "0.763 (+/-0.008) for {'solver': 'sgd', 'learning_rate': 'constant', 'hidden_layer_sizes': (10,), 'alpha': 0.1, 'activation': 'identity'}\n",
      "0.543 (+/-0.000) for {'solver': 'sgd', 'learning_rate': 'invscaling', 'hidden_layer_sizes': (10,), 'alpha': 0.0001, 'activation': 'logistic'}\n",
      "0.619 (+/-0.108) for {'solver': 'sgd', 'learning_rate': 'constant', 'hidden_layer_sizes': (10,), 'alpha': 0.01, 'activation': 'logistic'}\n",
      "0.785 (+/-0.015) for {'solver': 'adam', 'learning_rate': 'constant', 'hidden_layer_sizes': (10,), 'alpha': 0.001, 'activation': 'relu'}\n",
      "0.707 (+/-0.232) for {'solver': 'sgd', 'learning_rate': 'adaptive', 'hidden_layer_sizes': (10, 2), 'alpha': 0.0001, 'activation': 'relu'}\n",
      "0.543 (+/-0.000) for {'solver': 'sgd', 'learning_rate': 'constant', 'hidden_layer_sizes': (10, 2), 'alpha': 0.001, 'activation': 'logistic'}\n",
      "0.543 (+/-0.000) for {'solver': 'sgd', 'learning_rate': 'invscaling', 'hidden_layer_sizes': (10,), 'alpha': 0.001, 'activation': 'identity'}\n",
      "0.788 (+/-0.014) for {'solver': 'adam', 'learning_rate': 'constant', 'hidden_layer_sizes': (10, 2), 'alpha': 0.001, 'activation': 'tanh'}\n",
      "0.786 (+/-0.002) for {'solver': 'sgd', 'learning_rate': 'constant', 'hidden_layer_sizes': (10, 2), 'alpha': 0.001, 'activation': 'tanh'}\n",
      "0.791 (+/-0.006) for {'solver': 'adam', 'learning_rate': 'invscaling', 'hidden_layer_sizes': (10,), 'alpha': 1, 'activation': 'tanh'}\n",
      "0.787 (+/-0.008) for {'solver': 'adam', 'learning_rate': 'adaptive', 'hidden_layer_sizes': (10, 4, 2), 'alpha': 0.01, 'activation': 'tanh'}\n",
      "0.628 (+/-0.241) for {'solver': 'sgd', 'learning_rate': 'constant', 'hidden_layer_sizes': (10, 4, 2), 'alpha': 0.001, 'activation': 'relu'}\n",
      "0.513 (+/-0.087) for {'solver': 'sgd', 'learning_rate': 'invscaling', 'hidden_layer_sizes': (10, 2), 'alpha': 1, 'activation': 'tanh'}\n",
      "0.539 (+/-0.049) for {'solver': 'sgd', 'learning_rate': 'invscaling', 'hidden_layer_sizes': (10, 4, 2), 'alpha': 0.1, 'activation': 'identity'}\n",
      "0.548 (+/-0.009) for {'solver': 'sgd', 'learning_rate': 'invscaling', 'hidden_layer_sizes': (10,), 'alpha': 1, 'activation': 'identity'}\n",
      "0.698 (+/-0.220) for {'solver': 'adam', 'learning_rate': 'invscaling', 'hidden_layer_sizes': (10, 4, 2), 'alpha': 0.01, 'activation': 'relu'}\n",
      "0.784 (+/-0.010) for {'solver': 'sgd', 'learning_rate': 'constant', 'hidden_layer_sizes': (10, 2), 'alpha': 1, 'activation': 'tanh'}\n",
      "0.543 (+/-0.000) for {'solver': 'sgd', 'learning_rate': 'constant', 'hidden_layer_sizes': (10, 2), 'alpha': 0.01, 'activation': 'logistic'}\n",
      "0.788 (+/-0.017) for {'solver': 'adam', 'learning_rate': 'constant', 'hidden_layer_sizes': (10,), 'alpha': 0.0001, 'activation': 'tanh'}\n",
      "0.785 (+/-0.013) for {'solver': 'adam', 'learning_rate': 'adaptive', 'hidden_layer_sizes': (10, 4, 2), 'alpha': 0.001, 'activation': 'tanh'}\n",
      "0.782 (+/-0.021) for {'solver': 'adam', 'learning_rate': 'constant', 'hidden_layer_sizes': (10, 2), 'alpha': 0.0001, 'activation': 'identity'}\n",
      "0.786 (+/-0.001) for {'solver': 'sgd', 'learning_rate': 'adaptive', 'hidden_layer_sizes': (10, 2), 'alpha': 0.1, 'activation': 'identity'}\n",
      "0.786 (+/-0.010) for {'solver': 'adam', 'learning_rate': 'constant', 'hidden_layer_sizes': (10,), 'alpha': 0.01, 'activation': 'tanh'}\n",
      "0.790 (+/-0.008) for {'solver': 'sgd', 'learning_rate': 'constant', 'hidden_layer_sizes': (10, 4, 2), 'alpha': 1, 'activation': 'tanh'}\n",
      "0.625 (+/-0.232) for {'solver': 'sgd', 'learning_rate': 'adaptive', 'hidden_layer_sizes': (10, 4, 2), 'alpha': 0.01, 'activation': 'relu'}\n",
      "0.786 (+/-0.009) for {'solver': 'adam', 'learning_rate': 'constant', 'hidden_layer_sizes': (10, 4, 2), 'alpha': 0.01, 'activation': 'tanh'}\n",
      "0.791 (+/-0.008) for {'solver': 'adam', 'learning_rate': 'adaptive', 'hidden_layer_sizes': (10,), 'alpha': 0.1, 'activation': 'identity'}\n",
      "0.543 (+/-0.000) for {'solver': 'sgd', 'learning_rate': 'constant', 'hidden_layer_sizes': (10, 4, 2), 'alpha': 0.0001, 'activation': 'logistic'}\n",
      "0.789 (+/-0.008) for {'solver': 'adam', 'learning_rate': 'invscaling', 'hidden_layer_sizes': (10, 2), 'alpha': 0.01, 'activation': 'logistic'}\n",
      "0.511 (+/-0.048) for {'solver': 'sgd', 'learning_rate': 'invscaling', 'hidden_layer_sizes': (10,), 'alpha': 0.1, 'activation': 'identity'}\n",
      "0.789 (+/-0.011) for {'solver': 'sgd', 'learning_rate': 'adaptive', 'hidden_layer_sizes': (10, 2), 'alpha': 0.0001, 'activation': 'tanh'}\n",
      "0.543 (+/-0.000) for {'solver': 'sgd', 'learning_rate': 'constant', 'hidden_layer_sizes': (10, 2), 'alpha': 0.1, 'activation': 'logistic'}\n",
      "0.782 (+/-0.011) for {'solver': 'adam', 'learning_rate': 'invscaling', 'hidden_layer_sizes': (10, 4, 2), 'alpha': 0.1, 'activation': 'tanh'}\n",
      "0.543 (+/-0.000) for {'solver': 'adam', 'learning_rate': 'adaptive', 'hidden_layer_sizes': (10, 2), 'alpha': 1, 'activation': 'logistic'}\n",
      "0.784 (+/-0.011) for {'solver': 'adam', 'learning_rate': 'adaptive', 'hidden_layer_sizes': (10, 2), 'alpha': 0.01, 'activation': 'relu'}\n",
      "0.785 (+/-0.015) for {'solver': 'adam', 'learning_rate': 'constant', 'hidden_layer_sizes': (10,), 'alpha': 0.001, 'activation': 'tanh'}\n",
      "0.784 (+/-0.014) for {'solver': 'adam', 'learning_rate': 'invscaling', 'hidden_layer_sizes': (10, 2), 'alpha': 0.1, 'activation': 'identity'}\n",
      "0.543 (+/-0.000) for {'solver': 'sgd', 'learning_rate': 'adaptive', 'hidden_layer_sizes': (10, 4, 2), 'alpha': 0.001, 'activation': 'logistic'}\n",
      "0.791 (+/-0.012) for {'solver': 'sgd', 'learning_rate': 'adaptive', 'hidden_layer_sizes': (10, 4, 2), 'alpha': 0.1, 'activation': 'tanh'}\n",
      "0.705 (+/-0.230) for {'solver': 'sgd', 'learning_rate': 'constant', 'hidden_layer_sizes': (10, 2), 'alpha': 0.01, 'activation': 'relu'}\n",
      "0.708 (+/-0.234) for {'solver': 'adam', 'learning_rate': 'adaptive', 'hidden_layer_sizes': (10, 4, 2), 'alpha': 0.1, 'activation': 'relu'}\n",
      "0.507 (+/-0.072) for {'solver': 'sgd', 'learning_rate': 'invscaling', 'hidden_layer_sizes': (10, 4, 2), 'alpha': 0.0001, 'activation': 'relu'}\n",
      "0.787 (+/-0.019) for {'solver': 'adam', 'learning_rate': 'invscaling', 'hidden_layer_sizes': (10,), 'alpha': 0.001, 'activation': 'identity'}\n",
      "0.514 (+/-0.080) for {'solver': 'sgd', 'learning_rate': 'invscaling', 'hidden_layer_sizes': (10, 4, 2), 'alpha': 0.01, 'activation': 'logistic'}\n",
      "0.543 (+/-0.000) for {'solver': 'sgd', 'learning_rate': 'adaptive', 'hidden_layer_sizes': (10, 4, 2), 'alpha': 0.01, 'activation': 'logistic'}\n",
      "0.786 (+/-0.020) for {'solver': 'adam', 'learning_rate': 'constant', 'hidden_layer_sizes': (10, 4, 2), 'alpha': 0.01, 'activation': 'identity'}\n",
      "0.625 (+/-0.035) for {'solver': 'sgd', 'learning_rate': 'constant', 'hidden_layer_sizes': (10,), 'alpha': 1, 'activation': 'logistic'}\n",
      "0.543 (+/-0.000) for {'solver': 'sgd', 'learning_rate': 'adaptive', 'hidden_layer_sizes': (10, 2), 'alpha': 0.0001, 'activation': 'logistic'}\n",
      "0.457 (+/-0.000) for {'solver': 'sgd', 'learning_rate': 'invscaling', 'hidden_layer_sizes': (10, 4, 2), 'alpha': 0.001, 'activation': 'tanh'}\n",
      "0.699 (+/-0.221) for {'solver': 'adam', 'learning_rate': 'constant', 'hidden_layer_sizes': (10, 2), 'alpha': 0.01, 'activation': 'relu'}\n",
      "0.781 (+/-0.005) for {'solver': 'sgd', 'learning_rate': 'constant', 'hidden_layer_sizes': (10, 2), 'alpha': 0.001, 'activation': 'relu'}\n",
      "0.543 (+/-0.000) for {'solver': 'sgd', 'learning_rate': 'adaptive', 'hidden_layer_sizes': (10, 4, 2), 'alpha': 0.001, 'activation': 'relu'}\n",
      "0.766 (+/-0.008) for {'solver': 'sgd', 'learning_rate': 'adaptive', 'hidden_layer_sizes': (10,), 'alpha': 0.001, 'activation': 'identity'}\n",
      "0.793 (+/-0.008) for {'solver': 'adam', 'learning_rate': 'constant', 'hidden_layer_sizes': (10, 2), 'alpha': 1, 'activation': 'tanh'}\n",
      "0.790 (+/-0.013) for {'solver': 'adam', 'learning_rate': 'adaptive', 'hidden_layer_sizes': (10, 4, 2), 'alpha': 1, 'activation': 'identity'}\n",
      "0.794 (+/-0.008) for {'solver': 'adam', 'learning_rate': 'constant', 'hidden_layer_sizes': (10,), 'alpha': 0.1, 'activation': 'logistic'}\n",
      "0.787 (+/-0.012) for {'solver': 'adam', 'learning_rate': 'constant', 'hidden_layer_sizes': (10, 2), 'alpha': 0.01, 'activation': 'logistic'}\n",
      "0.793 (+/-0.003) for {'solver': 'adam', 'learning_rate': 'constant', 'hidden_layer_sizes': (10,), 'alpha': 1, 'activation': 'tanh'}\n",
      "0.787 (+/-0.019) for {'solver': 'sgd', 'learning_rate': 'constant', 'hidden_layer_sizes': (10, 4, 2), 'alpha': 0.1, 'activation': 'identity'}\n",
      "0.706 (+/-0.231) for {'solver': 'adam', 'learning_rate': 'invscaling', 'hidden_layer_sizes': (10, 4, 2), 'alpha': 0.01, 'activation': 'logistic'}\n",
      "0.787 (+/-0.015) for {'solver': 'sgd', 'learning_rate': 'constant', 'hidden_layer_sizes': (10, 4, 2), 'alpha': 0.0001, 'activation': 'identity'}\n",
      "0.537 (+/-0.107) for {'solver': 'sgd', 'learning_rate': 'invscaling', 'hidden_layer_sizes': (10,), 'alpha': 0.001, 'activation': 'tanh'}\n",
      "0.788 (+/-0.010) for {'solver': 'sgd', 'learning_rate': 'adaptive', 'hidden_layer_sizes': (10, 4, 2), 'alpha': 0.001, 'activation': 'tanh'}\n",
      "0.705 (+/-0.230) for {'solver': 'adam', 'learning_rate': 'adaptive', 'hidden_layer_sizes': (10, 2), 'alpha': 0.001, 'activation': 'relu'}\n",
      "0.543 (+/-0.000) for {'solver': 'adam', 'learning_rate': 'invscaling', 'hidden_layer_sizes': (10, 2), 'alpha': 1, 'activation': 'logistic'}\n",
      "0.783 (+/-0.027) for {'solver': 'adam', 'learning_rate': 'adaptive', 'hidden_layer_sizes': (10, 4, 2), 'alpha': 0.0001, 'activation': 'identity'}\n",
      "\n",
      "Detailed classification report:\n",
      "\n",
      "The model is trained on the full development set.\n",
      "The scores are computed on the full evaluation set.\n",
      "\n",
      "[[1124  254]\n",
      " [ 264  866]]\n",
      "              precision    recall  f1-score   support\n",
      "\n",
      "           0       0.81      0.82      0.81      1378\n",
      "           1       0.77      0.77      0.77      1130\n",
      "\n",
      "    accuracy                           0.79      2508\n",
      "   macro avg       0.79      0.79      0.79      2508\n",
      "weighted avg       0.79      0.79      0.79      2508\n",
      "\n",
      "\n"
     ]
    },
    {
     "name": "stderr",
     "output_type": "stream",
     "text": [
      "C:\\Users\\s\\Anaconda3\\lib\\site-packages\\sklearn\\neural_network\\multilayer_perceptron.py:566: ConvergenceWarning: Stochastic Optimizer: Maximum iterations (200) reached and the optimization hasn't converged yet.\n",
      "  % self.max_iter, ConvergenceWarning)\n"
     ]
    }
   ],
   "source": [
    "nn = modelTuning(MLPClassifier(),tuned_parameters,100,False)"
   ]
  },
  {
   "cell_type": "markdown",
   "metadata": {},
   "source": [
    "## ------------------------------------------Test Prediction-------------------------------------------------"
   ]
  },
  {
   "cell_type": "code",
   "execution_count": 31,
   "metadata": {},
   "outputs": [
    {
     "data": {
      "text/plain": [
       "MLPClassifier(activation='logistic', alpha=0.1, batch_size='auto', beta_1=0.9,\n",
       "              beta_2=0.999, early_stopping=False, epsilon=1e-08,\n",
       "              hidden_layer_sizes=(10,), learning_rate='constant',\n",
       "              learning_rate_init=0.001, max_iter=400, momentum=0.9,\n",
       "              n_iter_no_change=10, nesterovs_momentum=True, power_t=0.5,\n",
       "              random_state=None, shuffle=True, solver='adam', tol=0.0001,\n",
       "              validation_fraction=0.1, verbose=False, warm_start=False)"
      ]
     },
     "execution_count": 31,
     "metadata": {},
     "output_type": "execute_result"
    }
   ],
   "source": [
    "#train all model with tuning hyperparameter\n",
    "mnb = MultinomialNB(alpha = 0.1)\n",
    "mnb.fit(X_train,y_train)\n",
    "rfc = RandomForestClassifier(n_estimators= 2000, min_samples_split= 5, min_samples_leaf= 1, max_features= 'auto', max_depth= 100, bootstrap= False)\n",
    "rfc.fit(X_train,y_train)\n",
    "svm = SVC(kernel= 'rbf',gamma= 0.01, C= 10) \n",
    "svm.fit(X_train,y_train)\n",
    "knn = KNeighborsClassifier(weights= 'distance', n_neighbors= 24, metric= 'manhattan')\n",
    "knn.fit(X_train,y_train)\n",
    "nn = MLPClassifier(solver= 'adam', learning_rate= 'constant', hidden_layer_sizes= (10,), alpha= 0.1, activation= 'logistic',max_iter = 400)\n",
    "nn.fit(X_train, y_train)"
   ]
  },
  {
   "cell_type": "code",
   "execution_count": 32,
   "metadata": {},
   "outputs": [],
   "source": [
    "sample_name = \"sira\"\n",
    "vect = dv.transform(gender_features(sample_name,True,True,2)).toarray()"
   ]
  },
  {
   "cell_type": "code",
   "execution_count": 33,
   "metadata": {},
   "outputs": [
    {
     "data": {
      "text/plain": [
       "['female', 'male', 'male', 'male', 'male']"
      ]
     },
     "execution_count": 33,
     "metadata": {},
     "output_type": "execute_result"
    }
   ],
   "source": [
    "pred_results = [mnb.predict(vect),rfc.predict(vect),svm.predict(vect),knn.predict(vect),nn.predict(vect)]\n",
    "pred_results = [\"female\" if pred == [0] else \"male\" for pred in pred_results]\n",
    "pred_results "
   ]
  },
  {
   "cell_type": "markdown",
   "metadata": {},
   "source": [
    "## ----------------------------------------- Ensembling Model ------------------------------------------"
   ]
  },
  {
   "cell_type": "code",
   "execution_count": 34,
   "metadata": {},
   "outputs": [],
   "source": [
    "#Get output from all models to be the input of neural network\n",
    "df['mnb'] = mnb.predict(X)\n",
    "df['rfc'] = rfc.predict(X)\n",
    "df['svm'] = svm.predict(X)\n",
    "df['knn'] = knn.predict(X)\n",
    "df['nn'] = nn.predict(X)"
   ]
  },
  {
   "cell_type": "code",
   "execution_count": 35,
   "metadata": {},
   "outputs": [],
   "source": [
    "enn_X = df.iloc[:,3:8]\n",
    "enn_y = df['gender']"
   ]
  },
  {
   "cell_type": "code",
   "execution_count": 36,
   "metadata": {},
   "outputs": [
    {
     "data": {
      "text/html": [
       "<div>\n",
       "<style scoped>\n",
       "    .dataframe tbody tr th:only-of-type {\n",
       "        vertical-align: middle;\n",
       "    }\n",
       "\n",
       "    .dataframe tbody tr th {\n",
       "        vertical-align: top;\n",
       "    }\n",
       "\n",
       "    .dataframe thead th {\n",
       "        text-align: right;\n",
       "    }\n",
       "</style>\n",
       "<table border=\"1\" class=\"dataframe\">\n",
       "  <thead>\n",
       "    <tr style=\"text-align: right;\">\n",
       "      <th></th>\n",
       "      <th>mnb</th>\n",
       "      <th>rfc</th>\n",
       "      <th>svm</th>\n",
       "      <th>knn</th>\n",
       "      <th>nn</th>\n",
       "    </tr>\n",
       "  </thead>\n",
       "  <tbody>\n",
       "    <tr>\n",
       "      <td>0</td>\n",
       "      <td>0</td>\n",
       "      <td>0</td>\n",
       "      <td>0</td>\n",
       "      <td>0</td>\n",
       "      <td>0</td>\n",
       "    </tr>\n",
       "    <tr>\n",
       "      <td>1</td>\n",
       "      <td>0</td>\n",
       "      <td>0</td>\n",
       "      <td>0</td>\n",
       "      <td>0</td>\n",
       "      <td>0</td>\n",
       "    </tr>\n",
       "    <tr>\n",
       "      <td>2</td>\n",
       "      <td>0</td>\n",
       "      <td>0</td>\n",
       "      <td>0</td>\n",
       "      <td>0</td>\n",
       "      <td>0</td>\n",
       "    </tr>\n",
       "    <tr>\n",
       "      <td>3</td>\n",
       "      <td>1</td>\n",
       "      <td>1</td>\n",
       "      <td>1</td>\n",
       "      <td>1</td>\n",
       "      <td>1</td>\n",
       "    </tr>\n",
       "    <tr>\n",
       "      <td>4</td>\n",
       "      <td>0</td>\n",
       "      <td>0</td>\n",
       "      <td>0</td>\n",
       "      <td>0</td>\n",
       "      <td>0</td>\n",
       "    </tr>\n",
       "    <tr>\n",
       "      <td>...</td>\n",
       "      <td>...</td>\n",
       "      <td>...</td>\n",
       "      <td>...</td>\n",
       "      <td>...</td>\n",
       "      <td>...</td>\n",
       "    </tr>\n",
       "    <tr>\n",
       "      <td>10026</td>\n",
       "      <td>0</td>\n",
       "      <td>0</td>\n",
       "      <td>0</td>\n",
       "      <td>0</td>\n",
       "      <td>0</td>\n",
       "    </tr>\n",
       "    <tr>\n",
       "      <td>10027</td>\n",
       "      <td>1</td>\n",
       "      <td>1</td>\n",
       "      <td>1</td>\n",
       "      <td>1</td>\n",
       "      <td>1</td>\n",
       "    </tr>\n",
       "    <tr>\n",
       "      <td>10028</td>\n",
       "      <td>1</td>\n",
       "      <td>1</td>\n",
       "      <td>1</td>\n",
       "      <td>1</td>\n",
       "      <td>1</td>\n",
       "    </tr>\n",
       "    <tr>\n",
       "      <td>10029</td>\n",
       "      <td>0</td>\n",
       "      <td>0</td>\n",
       "      <td>0</td>\n",
       "      <td>0</td>\n",
       "      <td>0</td>\n",
       "    </tr>\n",
       "    <tr>\n",
       "      <td>10030</td>\n",
       "      <td>1</td>\n",
       "      <td>1</td>\n",
       "      <td>1</td>\n",
       "      <td>1</td>\n",
       "      <td>1</td>\n",
       "    </tr>\n",
       "  </tbody>\n",
       "</table>\n",
       "<p>10031 rows × 5 columns</p>\n",
       "</div>"
      ],
      "text/plain": [
       "       mnb  rfc  svm  knn  nn\n",
       "0        0    0    0    0   0\n",
       "1        0    0    0    0   0\n",
       "2        0    0    0    0   0\n",
       "3        1    1    1    1   1\n",
       "4        0    0    0    0   0\n",
       "...    ...  ...  ...  ...  ..\n",
       "10026    0    0    0    0   0\n",
       "10027    1    1    1    1   1\n",
       "10028    1    1    1    1   1\n",
       "10029    0    0    0    0   0\n",
       "10030    1    1    1    1   1\n",
       "\n",
       "[10031 rows x 5 columns]"
      ]
     },
     "execution_count": 36,
     "metadata": {},
     "output_type": "execute_result"
    }
   ],
   "source": [
    "enn_X"
   ]
  },
  {
   "cell_type": "code",
   "execution_count": 37,
   "metadata": {},
   "outputs": [],
   "source": [
    "enn_X_train, enn_X_test, enn_y_train, enn_y_test = train_test_split(enn_X, enn_y, test_size=0.25,random_state=1)"
   ]
  },
  {
   "cell_type": "code",
   "execution_count": 38,
   "metadata": {},
   "outputs": [],
   "source": [
    "enn = MLPClassifier(solver='adam', alpha=1e-5,hidden_layer_sizes=(3), random_state=0,max_iter=300)"
   ]
  },
  {
   "cell_type": "code",
   "execution_count": 39,
   "metadata": {},
   "outputs": [
    {
     "data": {
      "text/plain": [
       "MLPClassifier(activation='relu', alpha=1e-05, batch_size='auto', beta_1=0.9,\n",
       "              beta_2=0.999, early_stopping=False, epsilon=1e-08,\n",
       "              hidden_layer_sizes=3, learning_rate='constant',\n",
       "              learning_rate_init=0.001, max_iter=300, momentum=0.9,\n",
       "              n_iter_no_change=10, nesterovs_momentum=True, power_t=0.5,\n",
       "              random_state=0, shuffle=True, solver='adam', tol=0.0001,\n",
       "              validation_fraction=0.1, verbose=False, warm_start=False)"
      ]
     },
     "execution_count": 39,
     "metadata": {},
     "output_type": "execute_result"
    }
   ],
   "source": [
    "enn.fit(enn_X_train,enn_y_train)"
   ]
  },
  {
   "cell_type": "code",
   "execution_count": 40,
   "metadata": {},
   "outputs": [],
   "source": [
    "enn_pred = enn.predict(enn_X_test)"
   ]
  },
  {
   "cell_type": "code",
   "execution_count": 41,
   "metadata": {},
   "outputs": [
    {
     "name": "stdout",
     "output_type": "stream",
     "text": [
      "[[1313   71]\n",
      " [ 117 1007]]\n"
     ]
    }
   ],
   "source": [
    "print(confusion_matrix(enn_y_test,enn_pred))"
   ]
  },
  {
   "cell_type": "code",
   "execution_count": 42,
   "metadata": {},
   "outputs": [
    {
     "name": "stdout",
     "output_type": "stream",
     "text": [
      "              precision    recall  f1-score   support\n",
      "\n",
      "           0       0.92      0.95      0.93      1384\n",
      "           1       0.93      0.90      0.91      1124\n",
      "\n",
      "    accuracy                           0.93      2508\n",
      "   macro avg       0.93      0.92      0.92      2508\n",
      "weighted avg       0.93      0.93      0.92      2508\n",
      "\n"
     ]
    }
   ],
   "source": [
    "print(classification_report(enn_y_test,enn_pred))"
   ]
  },
  {
   "cell_type": "code",
   "execution_count": 43,
   "metadata": {},
   "outputs": [
    {
     "name": "stdout",
     "output_type": "stream",
     "text": [
      "[0.93027888 0.92821535 0.90428714 0.92422732 0.91026919 0.92622134\n",
      " 0.93220339 0.92323031 0.91824526 0.92622134]\n",
      "Accuracy: 0.92 (+/- 0.02)\n"
     ]
    }
   ],
   "source": [
    "# 10-fold cross-validation\n",
    "enn_scores = cross_val_score(enn, enn_X, enn_y, cv=10, scoring='accuracy',n_jobs = -1)\n",
    "print(enn_scores)\n",
    "print(\"Accuracy: %0.2f (+/- %0.2f)\" % (enn_scores.mean(), enn_scores.std() * 2))"
   ]
  },
  {
   "cell_type": "markdown",
   "metadata": {},
   "source": [
    "## -------------------------------------------- Optimize Final Model ------------------------------------------"
   ]
  },
  {
   "cell_type": "code",
   "execution_count": 44,
   "metadata": {},
   "outputs": [
    {
     "data": {
      "text/plain": [
       "{'activation': 'relu',\n",
       " 'alpha': 1e-05,\n",
       " 'batch_size': 'auto',\n",
       " 'beta_1': 0.9,\n",
       " 'beta_2': 0.999,\n",
       " 'early_stopping': False,\n",
       " 'epsilon': 1e-08,\n",
       " 'hidden_layer_sizes': 3,\n",
       " 'learning_rate': 'constant',\n",
       " 'learning_rate_init': 0.001,\n",
       " 'max_iter': 300,\n",
       " 'momentum': 0.9,\n",
       " 'n_iter_no_change': 10,\n",
       " 'nesterovs_momentum': True,\n",
       " 'power_t': 0.5,\n",
       " 'random_state': 0,\n",
       " 'shuffle': True,\n",
       " 'solver': 'adam',\n",
       " 'tol': 0.0001,\n",
       " 'validation_fraction': 0.1,\n",
       " 'verbose': False,\n",
       " 'warm_start': False}"
      ]
     },
     "execution_count": 44,
     "metadata": {},
     "output_type": "execute_result"
    }
   ],
   "source": [
    "enn.get_params()"
   ]
  },
  {
   "cell_type": "code",
   "execution_count": 45,
   "metadata": {},
   "outputs": [],
   "source": [
    "tuned_parameters = {'hidden_layer_sizes': [(10,), (3,), (3,2), ()],\n",
    "                    'activation': ['identity', 'logistic', 'tanh', 'relu'],\n",
    "                    'solver': ['lbfgs','sgd', 'adam'],\n",
    "                    'alpha': [1e-4, 1e-3,1e-2,1e-1,1],\n",
    "                    'learning_rate': ['constant', 'invscaling', 'adaptive']}"
   ]
  },
  {
   "cell_type": "code",
   "execution_count": 46,
   "metadata": {},
   "outputs": [
    {
     "name": "stdout",
     "output_type": "stream",
     "text": [
      "# Tuning hyper-parameters for accuracy\n",
      "\n",
      "Fitting 3 folds for each of 100 candidates, totalling 300 fits\n"
     ]
    },
    {
     "name": "stderr",
     "output_type": "stream",
     "text": [
      "[Parallel(n_jobs=-1)]: Using backend LokyBackend with 8 concurrent workers.\n",
      "[Parallel(n_jobs=-1)]: Done 181 tasks      | elapsed:   19.7s\n",
      "[Parallel(n_jobs=-1)]: Done 300 out of 300 | elapsed:   30.2s finished\n"
     ]
    },
    {
     "name": "stdout",
     "output_type": "stream",
     "text": [
      "Best parameters set found on development set:\n",
      "\n",
      "{'solver': 'lbfgs', 'learning_rate': 'adaptive', 'hidden_layer_sizes': (10,), 'alpha': 0.1, 'activation': 'relu'}\n",
      "\n",
      "Grid scores on development set:\n",
      "\n",
      "0.922 (+/-0.010) for {'solver': 'adam', 'learning_rate': 'adaptive', 'hidden_layer_sizes': (), 'alpha': 0.1, 'activation': 'tanh'}\n",
      "0.922 (+/-0.010) for {'solver': 'lbfgs', 'learning_rate': 'adaptive', 'hidden_layer_sizes': (), 'alpha': 0.01, 'activation': 'relu'}\n",
      "0.921 (+/-0.009) for {'solver': 'adam', 'learning_rate': 'constant', 'hidden_layer_sizes': (), 'alpha': 0.001, 'activation': 'logistic'}\n",
      "0.922 (+/-0.010) for {'solver': 'sgd', 'learning_rate': 'adaptive', 'hidden_layer_sizes': (), 'alpha': 0.1, 'activation': 'identity'}\n",
      "0.922 (+/-0.009) for {'solver': 'sgd', 'learning_rate': 'adaptive', 'hidden_layer_sizes': (3, 2), 'alpha': 0.1, 'activation': 'tanh'}\n",
      "0.921 (+/-0.010) for {'solver': 'sgd', 'learning_rate': 'adaptive', 'hidden_layer_sizes': (), 'alpha': 1, 'activation': 'logistic'}\n",
      "0.920 (+/-0.010) for {'solver': 'lbfgs', 'learning_rate': 'constant', 'hidden_layer_sizes': (3,), 'alpha': 0.01, 'activation': 'relu'}\n",
      "0.914 (+/-0.007) for {'solver': 'sgd', 'learning_rate': 'invscaling', 'hidden_layer_sizes': (10,), 'alpha': 0.001, 'activation': 'identity'}\n",
      "0.921 (+/-0.011) for {'solver': 'lbfgs', 'learning_rate': 'constant', 'hidden_layer_sizes': (3,), 'alpha': 0.0001, 'activation': 'tanh'}\n",
      "0.485 (+/-0.080) for {'solver': 'sgd', 'learning_rate': 'invscaling', 'hidden_layer_sizes': (3,), 'alpha': 0.01, 'activation': 'identity'}\n",
      "0.487 (+/-0.681) for {'solver': 'sgd', 'learning_rate': 'invscaling', 'hidden_layer_sizes': (), 'alpha': 1, 'activation': 'identity'}\n",
      "0.487 (+/-0.078) for {'solver': 'sgd', 'learning_rate': 'invscaling', 'hidden_layer_sizes': (3,), 'alpha': 1, 'activation': 'tanh'}\n",
      "0.922 (+/-0.009) for {'solver': 'sgd', 'learning_rate': 'constant', 'hidden_layer_sizes': (), 'alpha': 1, 'activation': 'logistic'}\n",
      "0.921 (+/-0.011) for {'solver': 'adam', 'learning_rate': 'constant', 'hidden_layer_sizes': (3, 2), 'alpha': 0.01, 'activation': 'tanh'}\n",
      "0.921 (+/-0.010) for {'solver': 'lbfgs', 'learning_rate': 'constant', 'hidden_layer_sizes': (3,), 'alpha': 1, 'activation': 'relu'}\n",
      "0.922 (+/-0.010) for {'solver': 'adam', 'learning_rate': 'invscaling', 'hidden_layer_sizes': (3,), 'alpha': 0.0001, 'activation': 'identity'}\n",
      "0.922 (+/-0.009) for {'solver': 'lbfgs', 'learning_rate': 'adaptive', 'hidden_layer_sizes': (10,), 'alpha': 0.0001, 'activation': 'tanh'}\n",
      "0.922 (+/-0.010) for {'solver': 'adam', 'learning_rate': 'invscaling', 'hidden_layer_sizes': (3,), 'alpha': 0.001, 'activation': 'relu'}\n",
      "0.919 (+/-0.013) for {'solver': 'lbfgs', 'learning_rate': 'constant', 'hidden_layer_sizes': (3,), 'alpha': 0.0001, 'activation': 'relu'}\n",
      "0.796 (+/-0.359) for {'solver': 'sgd', 'learning_rate': 'adaptive', 'hidden_layer_sizes': (3, 2), 'alpha': 0.01, 'activation': 'relu'}\n",
      "0.638 (+/-0.393) for {'solver': 'sgd', 'learning_rate': 'invscaling', 'hidden_layer_sizes': (), 'alpha': 0.01, 'activation': 'identity'}\n",
      "0.922 (+/-0.010) for {'solver': 'lbfgs', 'learning_rate': 'constant', 'hidden_layer_sizes': (), 'alpha': 0.1, 'activation': 'tanh'}\n",
      "0.922 (+/-0.009) for {'solver': 'adam', 'learning_rate': 'adaptive', 'hidden_layer_sizes': (10,), 'alpha': 0.0001, 'activation': 'identity'}\n",
      "0.922 (+/-0.009) for {'solver': 'adam', 'learning_rate': 'constant', 'hidden_layer_sizes': (3,), 'alpha': 0.01, 'activation': 'relu'}\n",
      "0.922 (+/-0.010) for {'solver': 'lbfgs', 'learning_rate': 'adaptive', 'hidden_layer_sizes': (), 'alpha': 0.1, 'activation': 'tanh'}\n",
      "0.921 (+/-0.009) for {'solver': 'adam', 'learning_rate': 'adaptive', 'hidden_layer_sizes': (10,), 'alpha': 0.01, 'activation': 'relu'}\n",
      "0.923 (+/-0.008) for {'solver': 'sgd', 'learning_rate': 'constant', 'hidden_layer_sizes': (3,), 'alpha': 0.001, 'activation': 'relu'}\n",
      "0.923 (+/-0.010) for {'solver': 'sgd', 'learning_rate': 'constant', 'hidden_layer_sizes': (3, 2), 'alpha': 0.001, 'activation': 'identity'}\n",
      "0.514 (+/-0.079) for {'solver': 'sgd', 'learning_rate': 'invscaling', 'hidden_layer_sizes': (3, 2), 'alpha': 0.1, 'activation': 'tanh'}\n",
      "0.786 (+/-0.345) for {'solver': 'sgd', 'learning_rate': 'invscaling', 'hidden_layer_sizes': (), 'alpha': 0.0001, 'activation': 'identity'}\n",
      "0.922 (+/-0.010) for {'solver': 'adam', 'learning_rate': 'adaptive', 'hidden_layer_sizes': (3, 2), 'alpha': 1, 'activation': 'identity'}\n",
      "0.922 (+/-0.009) for {'solver': 'sgd', 'learning_rate': 'adaptive', 'hidden_layer_sizes': (10,), 'alpha': 0.0001, 'activation': 'relu'}\n",
      "0.921 (+/-0.011) for {'solver': 'adam', 'learning_rate': 'adaptive', 'hidden_layer_sizes': (3,), 'alpha': 0.1, 'activation': 'relu'}\n",
      "0.486 (+/-0.079) for {'solver': 'sgd', 'learning_rate': 'invscaling', 'hidden_layer_sizes': (3, 2), 'alpha': 0.0001, 'activation': 'logistic'}\n",
      "0.922 (+/-0.009) for {'solver': 'lbfgs', 'learning_rate': 'constant', 'hidden_layer_sizes': (10,), 'alpha': 0.0001, 'activation': 'tanh'}\n",
      "0.920 (+/-0.003) for {'solver': 'sgd', 'learning_rate': 'adaptive', 'hidden_layer_sizes': (3,), 'alpha': 0.01, 'activation': 'logistic'}\n",
      "0.921 (+/-0.010) for {'solver': 'sgd', 'learning_rate': 'constant', 'hidden_layer_sizes': (10,), 'alpha': 0.0001, 'activation': 'identity'}\n",
      "0.922 (+/-0.012) for {'solver': 'sgd', 'learning_rate': 'adaptive', 'hidden_layer_sizes': (10,), 'alpha': 0.001, 'activation': 'relu'}\n",
      "0.921 (+/-0.009) for {'solver': 'adam', 'learning_rate': 'invscaling', 'hidden_layer_sizes': (10,), 'alpha': 0.1, 'activation': 'tanh'}\n",
      "0.921 (+/-0.010) for {'solver': 'sgd', 'learning_rate': 'constant', 'hidden_layer_sizes': (3,), 'alpha': 0.01, 'activation': 'relu'}\n",
      "0.922 (+/-0.010) for {'solver': 'lbfgs', 'learning_rate': 'invscaling', 'hidden_layer_sizes': (), 'alpha': 0.1, 'activation': 'relu'}\n",
      "0.922 (+/-0.010) for {'solver': 'lbfgs', 'learning_rate': 'constant', 'hidden_layer_sizes': (3, 2), 'alpha': 1, 'activation': 'tanh'}\n",
      "0.922 (+/-0.010) for {'solver': 'lbfgs', 'learning_rate': 'constant', 'hidden_layer_sizes': (), 'alpha': 1, 'activation': 'tanh'}\n",
      "0.921 (+/-0.010) for {'solver': 'sgd', 'learning_rate': 'adaptive', 'hidden_layer_sizes': (10,), 'alpha': 0.01, 'activation': 'identity'}\n",
      "0.922 (+/-0.010) for {'solver': 'adam', 'learning_rate': 'invscaling', 'hidden_layer_sizes': (), 'alpha': 0.001, 'activation': 'relu'}\n",
      "0.922 (+/-0.009) for {'solver': 'sgd', 'learning_rate': 'adaptive', 'hidden_layer_sizes': (), 'alpha': 1, 'activation': 'relu'}\n",
      "0.792 (+/-0.354) for {'solver': 'sgd', 'learning_rate': 'adaptive', 'hidden_layer_sizes': (3,), 'alpha': 0.0001, 'activation': 'relu'}\n",
      "0.922 (+/-0.010) for {'solver': 'adam', 'learning_rate': 'adaptive', 'hidden_layer_sizes': (3,), 'alpha': 1, 'activation': 'tanh'}\n",
      "0.921 (+/-0.010) for {'solver': 'sgd', 'learning_rate': 'constant', 'hidden_layer_sizes': (10,), 'alpha': 1, 'activation': 'logistic'}\n",
      "0.921 (+/-0.010) for {'solver': 'adam', 'learning_rate': 'adaptive', 'hidden_layer_sizes': (), 'alpha': 0.0001, 'activation': 'tanh'}\n",
      "0.922 (+/-0.011) for {'solver': 'adam', 'learning_rate': 'invscaling', 'hidden_layer_sizes': (3,), 'alpha': 0.1, 'activation': 'tanh'}\n",
      "0.922 (+/-0.010) for {'solver': 'lbfgs', 'learning_rate': 'constant', 'hidden_layer_sizes': (), 'alpha': 0.01, 'activation': 'logistic'}\n",
      "0.542 (+/-0.000) for {'solver': 'sgd', 'learning_rate': 'invscaling', 'hidden_layer_sizes': (3,), 'alpha': 0.001, 'activation': 'logistic'}\n",
      "0.922 (+/-0.010) for {'solver': 'adam', 'learning_rate': 'adaptive', 'hidden_layer_sizes': (10,), 'alpha': 1, 'activation': 'relu'}\n",
      "0.922 (+/-0.010) for {'solver': 'adam', 'learning_rate': 'adaptive', 'hidden_layer_sizes': (3, 2), 'alpha': 0.1, 'activation': 'tanh'}\n",
      "0.921 (+/-0.009) for {'solver': 'adam', 'learning_rate': 'adaptive', 'hidden_layer_sizes': (10,), 'alpha': 0.001, 'activation': 'relu'}\n",
      "0.922 (+/-0.010) for {'solver': 'sgd', 'learning_rate': 'constant', 'hidden_layer_sizes': (10,), 'alpha': 0.001, 'activation': 'tanh'}\n",
      "0.922 (+/-0.010) for {'solver': 'lbfgs', 'learning_rate': 'invscaling', 'hidden_layer_sizes': (), 'alpha': 0.01, 'activation': 'relu'}\n",
      "0.921 (+/-0.010) for {'solver': 'lbfgs', 'learning_rate': 'adaptive', 'hidden_layer_sizes': (10,), 'alpha': 0.0001, 'activation': 'relu'}\n",
      "0.922 (+/-0.010) for {'solver': 'lbfgs', 'learning_rate': 'constant', 'hidden_layer_sizes': (), 'alpha': 0.0001, 'activation': 'identity'}\n",
      "0.542 (+/-0.000) for {'solver': 'sgd', 'learning_rate': 'constant', 'hidden_layer_sizes': (3, 2), 'alpha': 0.001, 'activation': 'logistic'}\n",
      "0.921 (+/-0.010) for {'solver': 'sgd', 'learning_rate': 'adaptive', 'hidden_layer_sizes': (3, 2), 'alpha': 0.1, 'activation': 'relu'}\n",
      "0.922 (+/-0.010) for {'solver': 'adam', 'learning_rate': 'adaptive', 'hidden_layer_sizes': (), 'alpha': 0.001, 'activation': 'logistic'}\n",
      "0.920 (+/-0.009) for {'solver': 'sgd', 'learning_rate': 'constant', 'hidden_layer_sizes': (3,), 'alpha': 0.1, 'activation': 'tanh'}\n",
      "0.922 (+/-0.010) for {'solver': 'lbfgs', 'learning_rate': 'constant', 'hidden_layer_sizes': (), 'alpha': 1, 'activation': 'logistic'}\n",
      "0.922 (+/-0.010) for {'solver': 'lbfgs', 'learning_rate': 'invscaling', 'hidden_layer_sizes': (3,), 'alpha': 1, 'activation': 'identity'}\n",
      "0.922 (+/-0.009) for {'solver': 'adam', 'learning_rate': 'adaptive', 'hidden_layer_sizes': (3,), 'alpha': 0.1, 'activation': 'tanh'}\n",
      "0.922 (+/-0.010) for {'solver': 'adam', 'learning_rate': 'constant', 'hidden_layer_sizes': (), 'alpha': 0.0001, 'activation': 'relu'}\n",
      "0.922 (+/-0.010) for {'solver': 'adam', 'learning_rate': 'adaptive', 'hidden_layer_sizes': (3, 2), 'alpha': 0.001, 'activation': 'logistic'}\n",
      "0.922 (+/-0.010) for {'solver': 'lbfgs', 'learning_rate': 'invscaling', 'hidden_layer_sizes': (10,), 'alpha': 0.01, 'activation': 'identity'}\n",
      "0.921 (+/-0.009) for {'solver': 'adam', 'learning_rate': 'constant', 'hidden_layer_sizes': (3,), 'alpha': 0.1, 'activation': 'tanh'}\n",
      "0.542 (+/-0.000) for {'solver': 'sgd', 'learning_rate': 'adaptive', 'hidden_layer_sizes': (3, 2), 'alpha': 0.1, 'activation': 'logistic'}\n",
      "0.922 (+/-0.010) for {'solver': 'lbfgs', 'learning_rate': 'invscaling', 'hidden_layer_sizes': (10,), 'alpha': 0.001, 'activation': 'tanh'}\n",
      "0.922 (+/-0.008) for {'solver': 'lbfgs', 'learning_rate': 'adaptive', 'hidden_layer_sizes': (3,), 'alpha': 0.01, 'activation': 'tanh'}\n",
      "0.750 (+/-0.413) for {'solver': 'sgd', 'learning_rate': 'invscaling', 'hidden_layer_sizes': (3,), 'alpha': 1, 'activation': 'identity'}\n",
      "0.921 (+/-0.010) for {'solver': 'sgd', 'learning_rate': 'adaptive', 'hidden_layer_sizes': (), 'alpha': 0.0001, 'activation': 'logistic'}\n",
      "0.921 (+/-0.009) for {'solver': 'lbfgs', 'learning_rate': 'adaptive', 'hidden_layer_sizes': (3,), 'alpha': 0.1, 'activation': 'relu'}\n",
      "0.922 (+/-0.011) for {'solver': 'adam', 'learning_rate': 'invscaling', 'hidden_layer_sizes': (3,), 'alpha': 0.001, 'activation': 'identity'}\n",
      "0.921 (+/-0.011) for {'solver': 'adam', 'learning_rate': 'invscaling', 'hidden_layer_sizes': (3, 2), 'alpha': 0.001, 'activation': 'logistic'}\n",
      "0.922 (+/-0.009) for {'solver': 'sgd', 'learning_rate': 'constant', 'hidden_layer_sizes': (3, 2), 'alpha': 1, 'activation': 'tanh'}\n",
      "0.922 (+/-0.010) for {'solver': 'lbfgs', 'learning_rate': 'invscaling', 'hidden_layer_sizes': (10,), 'alpha': 0.01, 'activation': 'tanh'}\n",
      "0.921 (+/-0.009) for {'solver': 'lbfgs', 'learning_rate': 'constant', 'hidden_layer_sizes': (3,), 'alpha': 0.1, 'activation': 'tanh'}\n",
      "0.923 (+/-0.009) for {'solver': 'lbfgs', 'learning_rate': 'adaptive', 'hidden_layer_sizes': (10,), 'alpha': 0.1, 'activation': 'relu'}\n",
      "0.921 (+/-0.010) for {'solver': 'sgd', 'learning_rate': 'constant', 'hidden_layer_sizes': (), 'alpha': 1, 'activation': 'identity'}\n",
      "0.921 (+/-0.006) for {'solver': 'sgd', 'learning_rate': 'constant', 'hidden_layer_sizes': (3,), 'alpha': 0.0001, 'activation': 'identity'}\n",
      "0.922 (+/-0.010) for {'solver': 'adam', 'learning_rate': 'invscaling', 'hidden_layer_sizes': (), 'alpha': 0.001, 'activation': 'identity'}\n",
      "0.921 (+/-0.009) for {'solver': 'lbfgs', 'learning_rate': 'invscaling', 'hidden_layer_sizes': (3, 2), 'alpha': 0.1, 'activation': 'tanh'}\n",
      "0.921 (+/-0.010) for {'solver': 'adam', 'learning_rate': 'constant', 'hidden_layer_sizes': (), 'alpha': 1, 'activation': 'relu'}\n",
      "0.922 (+/-0.010) for {'solver': 'adam', 'learning_rate': 'invscaling', 'hidden_layer_sizes': (10,), 'alpha': 0.0001, 'activation': 'tanh'}\n",
      "0.922 (+/-0.010) for {'solver': 'lbfgs', 'learning_rate': 'invscaling', 'hidden_layer_sizes': (), 'alpha': 0.0001, 'activation': 'tanh'}\n",
      "0.922 (+/-0.009) for {'solver': 'sgd', 'learning_rate': 'constant', 'hidden_layer_sizes': (10,), 'alpha': 0.0001, 'activation': 'logistic'}\n",
      "0.921 (+/-0.009) for {'solver': 'adam', 'learning_rate': 'constant', 'hidden_layer_sizes': (3,), 'alpha': 0.01, 'activation': 'logistic'}\n",
      "0.921 (+/-0.009) for {'solver': 'adam', 'learning_rate': 'adaptive', 'hidden_layer_sizes': (3, 2), 'alpha': 0.001, 'activation': 'tanh'}\n",
      "0.922 (+/-0.010) for {'solver': 'lbfgs', 'learning_rate': 'adaptive', 'hidden_layer_sizes': (10,), 'alpha': 0.1, 'activation': 'logistic'}\n",
      "0.793 (+/-0.356) for {'solver': 'sgd', 'learning_rate': 'constant', 'hidden_layer_sizes': (3, 2), 'alpha': 0.1, 'activation': 'relu'}\n",
      "0.922 (+/-0.010) for {'solver': 'lbfgs', 'learning_rate': 'invscaling', 'hidden_layer_sizes': (), 'alpha': 0.0001, 'activation': 'logistic'}\n",
      "0.921 (+/-0.010) for {'solver': 'adam', 'learning_rate': 'adaptive', 'hidden_layer_sizes': (10,), 'alpha': 1, 'activation': 'logistic'}\n",
      "0.922 (+/-0.010) for {'solver': 'adam', 'learning_rate': 'invscaling', 'hidden_layer_sizes': (3,), 'alpha': 0.1, 'activation': 'logistic'}\n",
      "0.640 (+/-0.400) for {'solver': 'sgd', 'learning_rate': 'invscaling', 'hidden_layer_sizes': (10,), 'alpha': 0.1, 'activation': 'relu'}\n",
      "0.611 (+/-0.431) for {'solver': 'sgd', 'learning_rate': 'invscaling', 'hidden_layer_sizes': (10,), 'alpha': 0.01, 'activation': 'tanh'}\n",
      "\n",
      "Detailed classification report:\n",
      "\n",
      "The model is trained on the full development set.\n",
      "The scores are computed on the full evaluation set.\n",
      "\n",
      "[[1316   68]\n",
      " [ 116 1008]]\n",
      "              precision    recall  f1-score   support\n",
      "\n",
      "           0       0.92      0.95      0.93      1384\n",
      "           1       0.94      0.90      0.92      1124\n",
      "\n",
      "    accuracy                           0.93      2508\n",
      "   macro avg       0.93      0.92      0.93      2508\n",
      "weighted avg       0.93      0.93      0.93      2508\n",
      "\n",
      "\n"
     ]
    }
   ],
   "source": [
    "enn = modelTuning(MLPClassifier(),tuned_parameters,100,True)"
   ]
  },
  {
   "cell_type": "code",
   "execution_count": 47,
   "metadata": {},
   "outputs": [
    {
     "data": {
      "text/plain": [
       "MLPClassifier(activation='tanh', alpha=0.1, batch_size='auto', beta_1=0.9,\n",
       "              beta_2=0.999, early_stopping=False, epsilon=1e-08,\n",
       "              hidden_layer_sizes=(), learning_rate='adaptive',\n",
       "              learning_rate_init=0.001, max_iter=300, momentum=0.9,\n",
       "              n_iter_no_change=10, nesterovs_momentum=True, power_t=0.5,\n",
       "              random_state=None, shuffle=True, solver='adam', tol=0.0001,\n",
       "              validation_fraction=0.1, verbose=False, warm_start=False)"
      ]
     },
     "execution_count": 47,
     "metadata": {},
     "output_type": "execute_result"
    }
   ],
   "source": [
    "enn = MLPClassifier(solver= 'adam', learning_rate= 'adaptive', hidden_layer_sizes= (), alpha= 0.1, activation= 'tanh',max_iter=300)\n",
    "enn.fit(enn_X_train,enn_y_train)"
   ]
  },
  {
   "cell_type": "code",
   "execution_count": 56,
   "metadata": {},
   "outputs": [
    {
     "name": "stdout",
     "output_type": "stream",
     "text": [
      "male\n"
     ]
    }
   ],
   "source": [
    "sample_name = \"Thanapath\"\n",
    "vect = dv.transform(gender_features(sample_name,True,True,2))\n",
    "vect = pd.DataFrame([mnb.predict(vect),\n",
    "              rfc.predict(vect),\n",
    "              svm.predict(vect),\n",
    "              knn.predict(vect),\n",
    "              nn.predict(vect)\n",
    "              ]).transpose()\n",
    "result = enn.predict(vect)\n",
    "if (result[0] == 0) :\n",
    "    print(\"female\")\n",
    "else :\n",
    "    print(\"male\")"
   ]
  },
  {
   "cell_type": "markdown",
   "metadata": {},
   "source": [
    "## -------------------------------------------- For VDO Demo Only------------------------------------------------"
   ]
  },
  {
   "cell_type": "code",
   "execution_count": 49,
   "metadata": {},
   "outputs": [],
   "source": [
    "def vdoPredict() :\n",
    "    test_df = pd.read_excel('test_dataset.xlsx') \n",
    "    test_df['firstName'] = test_df['name'].str.split().str[0]\n",
    "    vdo_X = [gender_features(n,True,True,2) for n in test_df['firstName']]\n",
    "    vdo_X_features = dv.transform(vdo_X)\n",
    "    vdo_gender = pd.DataFrame([mnb.predict(vdo_X_features),\n",
    "              rfc.predict(vdo_X_features),\n",
    "              svm.predict(vdo_X_features),\n",
    "              knn.predict(vdo_X_features),\n",
    "              nn.predict(vdo_X_features)\n",
    "              ]).transpose()\n",
    "    results = enn.predict(vdo_gender)\n",
    "    results =  [\"female\" if pred == 0 else \"male\" for pred in results]\n",
    "    test_df['gender'] = pd.DataFrame(results)\n",
    "    test_df[['name','gender']].to_excel(\"test_dataset.xlsx\")"
   ]
  },
  {
   "cell_type": "code",
   "execution_count": 63,
   "metadata": {},
   "outputs": [],
   "source": [
    "vdoPredict()"
   ]
  },
  {
   "cell_type": "code",
   "execution_count": null,
   "metadata": {},
   "outputs": [],
   "source": []
  }
 ],
 "metadata": {
  "colab": {
   "collapsed_sections": [
    "MOGN2wU3TwqR",
    "x8jQNME5RYKU",
    "cA7TKIEyRYKb",
    "ZZKt0ULvRYKw",
    "rAAsSzYkRYK3",
    "Ryeul5b4RYK4",
    "0ush5gYbRYK-",
    "f5onv9c6RYLD",
    "iKaFRkuBRYLL",
    "U9_8mUvYRYLS",
    "6sYIXqj0RYLZ",
    "EB0iCkgsRYLm",
    "0B4wgYezRYLo",
    "5EO4njU_RYLq",
    "qg8Hb_o5RYLv",
    "EUS6nOEURYMA",
    "DI-FeQ0zRYME",
    "XM4KJPzwRYME",
    "39AuBsGrRYMN",
    "SzPYMi8ARYMR",
    "SURVosTwRYMc",
    "bxwnqEs0RYMj"
   ],
   "name": "SeniorProject.ipynb",
   "provenance": []
  },
  "kernelspec": {
   "display_name": "Python 3",
   "language": "python",
   "name": "python3"
  },
  "language_info": {
   "codemirror_mode": {
    "name": "ipython",
    "version": 3
   },
   "file_extension": ".py",
   "mimetype": "text/x-python",
   "name": "python",
   "nbconvert_exporter": "python",
   "pygments_lexer": "ipython3",
   "version": "3.7.4"
  }
 },
 "nbformat": 4,
 "nbformat_minor": 1
}
